{
 "cells": [
  {
   "cell_type": "code",
   "execution_count": 1,
   "metadata": {
    "collapsed": true
   },
   "outputs": [],
   "source": [
    "import VQs\n",
    "import numpy as np\n",
    "%matplotlib inline\n",
    "import matplotlib.pyplot as plt"
   ]
  },
  {
   "cell_type": "code",
   "execution_count": 2,
   "metadata": {
    "collapsed": true
   },
   "outputs": [],
   "source": [
    "N = 1000\n",
    "n = 1000\n",
    "m = 256\n",
    "R = np.log2(m)/n\n",
    "dims = np.arange(n).reshape(-1,1) + 1"
   ]
  },
  {
   "cell_type": "code",
   "execution_count": 3,
   "metadata": {
    "collapsed": false
   },
   "outputs": [],
   "source": [
    "Sig2F = np.exp(-0.01*np.arange(n)).reshape(-1,1)\n",
    "F_train = np.random.randn(n,N)\n",
    "F_train /= np.std(F_train,axis=1).reshape(-1,1)\n",
    "F_train *= np.sqrt(Sig2F)\n",
    "F_test = np.random.randn(n,N*10)\n",
    "F_test /= np.std(F_test,axis=1).reshape(-1,1)\n",
    "F_test *= np.sqrt(Sig2F)"
   ]
  },
  {
   "cell_type": "code",
   "execution_count": 4,
   "metadata": {
    "collapsed": false
   },
   "outputs": [
    {
     "name": "stdout",
     "output_type": "stream",
     "text": [
      "*** iter =  1  (J =  0.0482102076348 ) ****** iter =  2  (J =  0.0424709780608 ) ****** iter =  3  (J =  0.0423028549664 ) ****** iter =  4  (J =  0.0422778102359 ) ****** iter =  5  (J =  0.0422669665785 ) ****** iter =  6  (J =  0.0422613757612 ) ****** iter =  7  (J =  0.0422613596625 ) ****** iter =  8  (J =  0.0422613599946 ) ***"
     ]
    }
   ],
   "source": [
    "# VR-Kmeans training 1:\n",
    "VRKmeans_train = VQs.VR_Kmeans(m,lmda=1e-6,init_method='Data',num_iter=(10,4),eta=5e-1,gamma_p=0.99)\n",
    "_,_,_ = VRKmeans_train.run(F_train)\n",
    "Sig2C_WF = np.diag(VRKmeans_train.S).reshape(-1,1)\n",
    "Sig2C_VRKmeans1 = np.var(VRKmeans_train.C,axis=1).reshape(-1,1)\n",
    "del VRKmeans_train"
   ]
  },
  {
   "cell_type": "code",
   "execution_count": 5,
   "metadata": {
    "collapsed": false
   },
   "outputs": [
    {
     "name": "stdout",
     "output_type": "stream",
     "text": [
      "******************** 1 *******************************\n",
      "Cost function value =  0.147153113046\n",
      "******************** 2 *******************************\n",
      "Cost function value =  0.0633290854731\n",
      "******************** 3 *******************************\n",
      "Cost function value =  0.0531929501315\n",
      "******************** 4 *******************************\n",
      "Cost function value =  0.051962393988\n",
      "******************** 5 *******************************\n",
      "Cost function value =  0.0517577236316\n",
      "******************** 6 *******************************\n",
      "Cost function value =  0.0516885174139\n",
      "******************** 7 *******************************\n",
      "Cost function value =  0.0516622076572\n",
      "******************** 8 *******************************\n",
      "Cost function value =  0.0516573021454\n",
      "******************** 9 *******************************\n",
      "Cost function value =  0.0516540485756\n",
      "******************** 10 *******************************\n",
      "Cost function value =  0.0516538440899\n"
     ]
    }
   ],
   "source": [
    "# VR-Kmeans training 2:\n",
    "VRKmeans_train = VQs.VR_Kmeans(m,lmda=1e-4,init_method='Data',num_iter=(10,4),eta=5e-1,gamma_p=0.99)\n",
    "_,_,_ = VRKmeans_train.run(F_train)\n",
    "Sig2C_VRKmeans2 = np.var(VRKmeans_train.C,axis=1).reshape(-1,1)\n",
    "del VRKmeans_train"
   ]
  },
  {
   "cell_type": "code",
   "execution_count": 6,
   "metadata": {
    "collapsed": false
   },
   "outputs": [
    {
     "name": "stdout",
     "output_type": "stream",
     "text": [
      "******************** 1 *******************************\n",
      "Cost function value =  1059.95719664\n",
      "******************** 2 *******************************\n",
      "Cost function value =  202.985302341\n",
      "******************** 3 *******************************\n",
      "Cost function value =  83.5487622339\n",
      "******************** 4 *******************************\n",
      "Cost function value =  69.2434563224\n",
      "******************** 5 *******************************\n",
      "Cost function value =  68.0279375409\n",
      "******************** 6 *******************************\n",
      "Cost function value =  67.9794233738\n",
      "******************** 7 *******************************\n",
      "Cost function value =  67.9704110979\n",
      "******************** 8 *******************************\n",
      "Cost function value =  67.9626430788\n",
      "******************** 9 *******************************\n",
      "Cost function value =  67.9548891283\n",
      "******************** 10 *******************************\n",
      "Cost function value =  67.9478258052\n"
     ]
    }
   ],
   "source": [
    "# VR-Kmeans training 3:\n",
    "VRKmeans_train = VQs.VR_Kmeans(m,lmda=1e0,init_method='Data',num_iter=(10,4),eta=5e-1,gamma_p=0.99)\n",
    "F_out,_,_ = VRKmeans_train.run(F_train)\n",
    "VRKmeans_Dvect_train = np.var(F_out,axis=1).reshape(-1,1)\n",
    "Sig2C_VRKmeans3 = np.var(VRKmeans_train.C,axis=1).reshape(-1,1)"
   ]
  },
  {
   "cell_type": "code",
   "execution_count": 7,
   "metadata": {
    "collapsed": false
   },
   "outputs": [],
   "source": [
    "# VR-Kmeans testing:\n",
    "VRKmeans_test = VQs.VQ_unit(VRKmeans_train.C)\n",
    "F_out,_,_ = VRKmeans_test.run(F_test)\n",
    "VRKmeans_Dvect_test = np.var(F_out,axis=1).reshape(-1,1)"
   ]
  },
  {
   "cell_type": "code",
   "execution_count": 8,
   "metadata": {
    "collapsed": false
   },
   "outputs": [
    {
     "data": {
      "text/plain": [
       "[<matplotlib.lines.Line2D at 0x7f211e816a90>]"
      ]
     },
     "execution_count": 8,
     "metadata": {},
     "output_type": "execute_result"
    },
    {
     "data": {
      "image/png": "[encoded data removed]",
      "text/plain": [
       "<matplotlib.figure.Figure at 0x7f21444be198>"
      ]
     },
     "metadata": {},
     "output_type": "display_data"
    }
   ],
   "source": [
    "plt.plot(Sig2F)\n",
    "plt.plot(VRKmeans_Dvect_train)\n",
    "plt.plot(VRKmeans_Dvect_test)"
   ]
  },
  {
   "cell_type": "code",
   "execution_count": 9,
   "metadata": {
    "collapsed": false
   },
   "outputs": [
    {
     "name": "stdout",
     "output_type": "stream",
     "text": [
      "******************** 1 *******************************\n",
      "Cost function value =  0.0471646549623\n",
      "******************** 2 *******************************\n",
      "Cost function value =  0.0342789423793\n",
      "******************** 3 *******************************\n",
      "Cost function value =  0.0342751611874\n",
      "******************** 4 *******************************\n",
      "Cost function value =  0.0342751611874\n",
      "******************** 5 *******************************\n",
      "Cost function value =  0.0342751611874\n"
     ]
    }
   ],
   "source": [
    "# Kmeans training:\n",
    "Kmeans_train = VQs.VR_Kmeans(m,lmda=0,init_method='Data',num_iter=(10,4),eta=5e-1,gamma_p=0.99)\n",
    "F_out,_,_ = Kmeans_train.run(F_train)\n",
    "Kmeans_Dvect_train = np.var(F_out,axis=1).reshape(-1,1)\n",
    "Sig2C_Kmeans = np.var(Kmeans_train.C,axis=1).reshape(-1,1)"
   ]
  },
  {
   "cell_type": "code",
   "execution_count": 10,
   "metadata": {
    "collapsed": true
   },
   "outputs": [],
   "source": [
    "# Kmeans testing:\n",
    "Kmeans_test = VQs.VQ_unit(Kmeans_train.C)\n",
    "F_out,_,_ = Kmeans_test.run(F_test)\n",
    "Kmeans_Dvect_test = np.var(F_out,axis=1).reshape(-1,1)"
   ]
  },
  {
   "cell_type": "code",
   "execution_count": 11,
   "metadata": {
    "collapsed": false
   },
   "outputs": [
    {
     "data": {
      "text/plain": [
       "[<matplotlib.lines.Line2D at 0x7f210c2bacc0>]"
      ]
     },
     "execution_count": 11,
     "metadata": {},
     "output_type": "execute_result"
    },
    {
     "data": {
      "image/png": "[encoded data removed]",
      "text/plain": [
       "<matplotlib.figure.Figure at 0x7f21444fd518>"
      ]
     },
     "metadata": {},
     "output_type": "display_data"
    }
   ],
   "source": [
    "plt.plot(Sig2F)\n",
    "plt.plot(Kmeans_Dvect_train)\n",
    "plt.plot(Kmeans_Dvect_test)"
   ]
  },
  {
   "cell_type": "code",
   "execution_count": 12,
   "metadata": {
    "collapsed": false
   },
   "outputs": [],
   "source": [
    "curve_dict = {}\n",
    "curve_dict['Sig2F'] = (dims,Sig2F)\n",
    "curve_dict['Sig2C_WF'] = (dims,Sig2C_WF)\n",
    "curve_dict['Sig2C_Kmeans'] = (dims,Sig2C_Kmeans)\n",
    "curve_dict['Sig2C_VRKmeans1'] = (dims,Sig2C_VRKmeans1)\n",
    "curve_dict['Sig2C_VRKmeans2'] = (dims,Sig2C_VRKmeans2)\n",
    "curve_dict['Sig2C_VRKmeans3'] = (dims,Sig2C_VRKmeans3)\n",
    "curve_dict['DVect_WF'] = (dims,VRKmeans_train.RateAllocation(F_train))\n",
    "curve_dict['DhatVect_Kmeans'] = (dims,Kmeans_Dvect_train)\n",
    "curve_dict['DVect_Kmeans'] = (dims,Kmeans_Dvect_test)\n",
    "curve_dict['DhatVect_VRKmeans'] = (dims,VRKmeans_Dvect_train)\n",
    "curve_dict['DVect_VRKmeans'] = (dims,VRKmeans_Dvect_test)\n",
    "curve_dict['gamma'] = (dims,VRKmeans_train.gamma*VRKmeans_train.gamma_p*np.ones((n,1)))\n",
    "curve_dict['thrsh'] = (len(VRKmeans_train.actv_map)*np.ones((n,1)),np.linspace(0, 1, num=n).reshape(-1,1))"
   ]
  },
  {
   "cell_type": "code",
   "execution_count": 13,
   "metadata": {
    "collapsed": false
   },
   "outputs": [
    {
     "name": "stdout",
     "output_type": "stream",
     "text": [
      "DimDEMO_Sig2C_Kmeans.dat\n",
      "DimDEMO_DhatVect_Kmeans.dat\n",
      "DimDEMO_DVect_Kmeans.dat\n",
      "DimDEMO_DVect_VRKmeans.dat\n",
      "DimDEMO_Sig2F.dat\n",
      "DimDEMO_DhatVect_VRKmeans.dat\n",
      "DimDEMO_Sig2C_VRKmeans1.dat\n",
      "DimDEMO_DVect_WF.dat\n",
      "DimDEMO_Sig2C_VRKmeans2.dat\n",
      "DimDEMO_Sig2C_WF.dat\n",
      "DimDEMO_gamma.dat\n",
      "DimDEMO_thrsh.dat\n",
      "DimDEMO_Sig2C_VRKmeans3.dat\n"
     ]
    }
   ],
   "source": [
    "# # # Saving the results for PGFplott:\n",
    "PGF_path = '/home/sssohrab/Dropbox/Thesis/Thesis/Chapter5/Pics/PGF/VR-Kmeans/dat/'\n",
    "ExpName = 'DimDEMO'\n",
    "# # # \n",
    "for curve_name, curve_xy in curve_dict.items():\n",
    "    fname = ExpName + '_' + curve_name + '.dat'\n",
    "    print(fname)\n",
    "    x = curve_xy[0].astype(float).reshape(-1)\n",
    "    y = curve_xy[1].astype(float).reshape(-1)\n",
    "    np.savetxt(PGF_path + fname, np.transpose([x,y]), fmt='%8f', delimiter='   ')"
   ]
  }
 ],
 "metadata": {
  "anaconda-cloud": {},
  "kernelspec": {
   "display_name": "Python [conda root]",
   "language": "python",
   "name": "conda-root-py"
  },
  "language_info": {
   "codemirror_mode": {
    "name": "ipython",
    "version": 3
   },
   "file_extension": ".py",
   "mimetype": "text/x-python",
   "name": "python",
   "nbconvert_exporter": "python",
   "pygments_lexer": "ipython3",
   "version": "3.5.4"
  }
 },
 "nbformat": 4,
 "nbformat_minor": 1
}
