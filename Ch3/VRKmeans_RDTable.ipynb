{
 "cells": [
  {
   "cell_type": "code",
   "execution_count": 2,
   "metadata": {},
   "outputs": [],
   "source": [
    "import VQs\n",
    "import Tools\n",
    "import numpy as np\n",
    "%matplotlib inline\n",
    "import matplotlib.pyplot as plt\n",
    "from sparse_ternary_networks.Tools import SubbandPCA_whitner"
   ]
  },
  {
   "cell_type": "code",
   "execution_count": 2,
   "metadata": {
    "collapsed": true
   },
   "outputs": [],
   "source": [
    "N_test = 10000\n",
    "N_train = 1000"
   ]
  },
  {
   "cell_type": "code",
   "execution_count": 3,
   "metadata": {},
   "outputs": [],
   "source": [
    "SourceDict = {}\n",
    "##           SType:  (m,n,SourceParam,lmda,gamma_p,numSB)\n",
    "# SourceDict['iid'] =      (256, 1000,  1,      1e5,      0.99)\n",
    "# SourceDict['VarDecay'] = (256, 1000,  0.01,   1,        1.1)\n",
    "# SourceDict['AR1'] =      (256, 1000,  0.99,   0.01,     1.0,        1)\n",
    "SourceDict['MNIST'] =    (256, 784,   1,      1e-8,     0.1,        1)\n",
    "# SourceDict['CYale'] =    (256, 32256, 1,      1e-3,     0.1,       64)\n",
    "\n",
    "for SType,SParams in SourceDict.items():\n",
    "    exec('dist_Kmeans1_'+ SType + '_train =  []')\n",
    "    exec('dist_Kmeans1_'+ SType + '_test =  []')\n",
    "    exec('dist_Kmeans2_'+ SType + '_train =  []')\n",
    "    exec('dist_Kmeans2_'+ SType + '_test =  []')\n",
    "    exec('dist_VRKmeans_'+ SType + '_train =  []')\n",
    "    exec('dist_VRKmeans_'+ SType + '_test =  []')"
   ]
  },
  {
   "cell_type": "code",
   "execution_count": 4,
   "metadata": {},
   "outputs": [
    {
     "name": "stdout",
     "output_type": "stream",
     "text": [
      "repetition =  0\n",
      " ########################  SType =  MNIST ################################\n"
     ]
    },
    {
     "name": "stderr",
     "output_type": "stream",
     "text": [
      "/home/sssohrab/Dropbox/Py/Projects/RRQ/Tools.py:55: RuntimeWarning: divide by zero encountered in true_divide\n",
      "  np.abs(np.sum(0.5 * (1 / n) * np.log2(np.maximum(1, Sigma2_nz / gamma))) - Rate)\n"
     ]
    },
    {
     "name": "stdout",
     "output_type": "stream",
     "text": [
      "*** iter =  1  (J =  0.0265859333972 ) ****** iter =  2  (J =  0.0134963525617 ) ****** iter =  3  (J =  0.0130448511099 ) ****** iter =  4  (J =  0.0129226615552 ) ****** iter =  5  (J =  0.0128922201766 ) ****** iter =  6  (J =  0.0128922201766 ) ****** iter =  7  (J =  0.0128922201766 ) *** \n",
      " ................................... Train set distortion =  0.210423533866\n",
      " ................................... Test set distortion =  0.345205123469\n"
     ]
    },
    {
     "name": "stderr",
     "output_type": "stream",
     "text": [
      "/home/sssohrab/Dropbox/Py/Projects/RRQ/Tools.py:55: RuntimeWarning: divide by zero encountered in true_divide\n",
      "  np.abs(np.sum(0.5 * (1 / n) * np.log2(np.maximum(1, Sigma2_nz / gamma))) - Rate)\n"
     ]
    },
    {
     "name": "stdout",
     "output_type": "stream",
     "text": [
      "*** iter =  1  (J =  0.0202827421854 ) ****** iter =  2  (J =  0.0127106441672 ) ****** iter =  3  (J =  0.0124354132438 ) ****** iter =  4  (J =  0.0123492515363 ) ****** iter =  5  (J =  0.0123399237148 ) ****** iter =  6  (J =  0.0123399237148 ) ****** iter =  7  (J =  0.0123399237148 ) *** \n",
      " ................................... Train set distortion =  0.201409091695\n",
      " ................................... Test set distortion =  0.341016658142\n",
      "*** iter =  1  (J =  0.0193835073165 ) ***"
     ]
    },
    {
     "name": "stderr",
     "output_type": "stream",
     "text": [
      "/home/sssohrab/Dropbox/Py/Projects/RRQ/Tools.py:55: RuntimeWarning: divide by zero encountered in true_divide\n",
      "  np.abs(np.sum(0.5 * (1 / n) * np.log2(np.maximum(1, Sigma2_nz / gamma))) - Rate)\n"
     ]
    },
    {
     "name": "stdout",
     "output_type": "stream",
     "text": [
      "*** iter =  2  (J =  0.0135213578408 ) ****** iter =  3  (J =  0.0132549252645 ) ****** iter =  4  (J =  0.013149174537 ) ****** iter =  5  (J =  0.0131306120688 ) ****** iter =  6  (J =  0.0131255195766 ) ****** iter =  7  (J =  0.0131162534596 ) ****** iter =  8  (J =  0.0131162533736 ) ****** iter =  9  (J =  0.0131162533738 ) *** \n",
      " ................................... Train set distortion =  0.213574837843\n",
      " ................................... Test set distortion =  0.33411085097\n",
      "repetition =  1\n",
      " ########################  SType =  MNIST ################################\n",
      "*** iter =  1  (J =  0.0268123778013 ) ****** iter =  2  (J =  0.0139273972438 ) ****** iter =  3  (J =  0.0134361820928 ) ****** iter =  4  (J =  0.0132954661864 ) ****** iter =  5  (J =  0.0132238157222 ) ****** iter =  6  (J =  0.0132156156914 ) ****** iter =  7  (J =  0.0132156156914 ) ****** iter =  8  (J =  0.0132156156914 ) *** \n",
      " ................................... Train set distortion =  0.214330601986\n",
      " ................................... Test set distortion =  0.348068376264\n"
     ]
    },
    {
     "name": "stderr",
     "output_type": "stream",
     "text": [
      "/home/sssohrab/Dropbox/Py/Projects/RRQ/Tools.py:55: RuntimeWarning: divide by zero encountered in true_divide\n",
      "  np.abs(np.sum(0.5 * (1 / n) * np.log2(np.maximum(1, Sigma2_nz / gamma))) - Rate)\n"
     ]
    },
    {
     "name": "stdout",
     "output_type": "stream",
     "text": [
      "*** iter =  1  (J =  0.0211539990903 ) ****** iter =  2  (J =  0.0131322282652 ) ****** iter =  3  (J =  0.0128949250221 ) ****** iter =  4  (J =  0.0128332235923 ) ****** iter =  5  (J =  0.0128226267636 ) ****** iter =  6  (J =  0.0128226267636 ) ****** iter =  7  (J =  0.0128226267636 ) *** \n",
      " ................................... Train set distortion =  0.207957115088\n",
      " ................................... Test set distortion =  0.342279365556\n",
      "*** iter =  1  (J =  0.0201853089812 ) ***"
     ]
    },
    {
     "name": "stderr",
     "output_type": "stream",
     "text": [
      "/home/sssohrab/Dropbox/Py/Projects/RRQ/Tools.py:55: RuntimeWarning: divide by zero encountered in true_divide\n",
      "  np.abs(np.sum(0.5 * (1 / n) * np.log2(np.maximum(1, Sigma2_nz / gamma))) - Rate)\n"
     ]
    },
    {
     "name": "stdout",
     "output_type": "stream",
     "text": [
      "*** iter =  2  (J =  0.013913106137 ) ****** iter =  3  (J =  0.0137076634579 ) ****** iter =  4  (J =  0.0136825532721 ) ****** iter =  5  (J =  0.0136761669653 ) ****** iter =  6  (J =  0.013671065769 ) ****** iter =  7  (J =  0.0136696827422 ) ****** iter =  8  (J =  0.0136696827026 ) ****** iter =  9  (J =  0.0136696827025 ) *** \n",
      " ................................... Train set distortion =  0.22119341377\n",
      " ................................... Test set distortion =  0.338082500908\n",
      "repetition =  2\n",
      " ########################  SType =  MNIST ################################\n",
      "*** iter =  1  (J =  0.0266784415682 ) ****** iter =  2  (J =  0.0137534970403 ) ****** iter =  3  (J =  0.0132628234683 ) ****** iter =  4  (J =  0.0131586061402 ) ****** iter =  5  (J =  0.0131281105073 ) ****** iter =  6  (J =  0.013113516094 ) ****** iter =  7  (J =  0.0131044144203 ) ****** iter =  8  (J =  0.0130952224737 ) ****** iter =  9  (J =  0.01308657688 ) ****** iter =  10  (J =  0.01308657688 ) *** \n",
      " ................................... Train set distortion =  0.214841052842\n",
      " ................................... Test set distortion =  0.346368267753\n",
      "*** iter =  1  (J =  0.0206969108376 ) ***"
     ]
    },
    {
     "name": "stderr",
     "output_type": "stream",
     "text": [
      "/home/sssohrab/Dropbox/Py/Projects/RRQ/Tools.py:55: RuntimeWarning: divide by zero encountered in true_divide\n",
      "  np.abs(np.sum(0.5 * (1 / n) * np.log2(np.maximum(1, Sigma2_nz / gamma))) - Rate)\n"
     ]
    },
    {
     "name": "stdout",
     "output_type": "stream",
     "text": [
      "*** iter =  2  (J =  0.0131812727157 ) ****** iter =  3  (J =  0.0129428894299 ) ****** iter =  4  (J =  0.0128905828249 ) ****** iter =  5  (J =  0.0128858002301 ) ****** iter =  6  (J =  0.0128832474464 ) ****** iter =  7  (J =  0.0128832474464 ) ****** iter =  8  (J =  0.0128832474464 ) *** \n",
      " ................................... Train set distortion =  0.211503013414\n",
      " ................................... Test set distortion =  0.340447495931\n",
      "*** iter =  1  (J =  0.019964876145 ) ***"
     ]
    },
    {
     "name": "stderr",
     "output_type": "stream",
     "text": [
      "/home/sssohrab/Dropbox/Py/Projects/RRQ/Tools.py:55: RuntimeWarning: divide by zero encountered in true_divide\n",
      "  np.abs(np.sum(0.5 * (1 / n) * np.log2(np.maximum(1, Sigma2_nz / gamma))) - Rate)\n"
     ]
    },
    {
     "name": "stdout",
     "output_type": "stream",
     "text": [
      "*** iter =  2  (J =  0.0137625948715 ) ****** iter =  3  (J =  0.0135629564546 ) ****** iter =  4  (J =  0.0135149884913 ) ****** iter =  5  (J =  0.0134966927683 ) ****** iter =  6  (J =  0.0134966926612 ) ****** iter =  7  (J =  0.0134966926618 ) *** \n",
      " ................................... Train set distortion =  0.221076835366\n",
      " ................................... Test set distortion =  0.336209485072\n",
      "repetition =  3\n",
      " ########################  SType =  MNIST ################################\n",
      "*** iter =  1  (J =  0.0266171533641 ) ****** iter =  2  (J =  0.0136972665885 ) ****** iter =  3  (J =  0.0132529515211 ) ****** iter =  4  (J =  0.0131266354475 ) ****** iter =  5  (J =  0.0130999876271 ) ****** iter =  6  (J =  0.0130983783609 ) ****** iter =  7  (J =  0.0130983783609 ) ****** iter =  8  (J =  0.0130983783609 ) *** \n",
      " ................................... Train set distortion =  0.219121257954\n",
      " ................................... Test set distortion =  0.347000801656\n"
     ]
    },
    {
     "name": "stderr",
     "output_type": "stream",
     "text": [
      "/home/sssohrab/Dropbox/Py/Projects/RRQ/Tools.py:55: RuntimeWarning: divide by zero encountered in true_divide\n",
      "  np.abs(np.sum(0.5 * (1 / n) * np.log2(np.maximum(1, Sigma2_nz / gamma))) - Rate)\n"
     ]
    },
    {
     "name": "stdout",
     "output_type": "stream",
     "text": [
      "*** iter =  1  (J =  0.0208274666095 ) ****** iter =  2  (J =  0.0130938217167 ) ****** iter =  3  (J =  0.0128458307711 ) ****** iter =  4  (J =  0.0127966597528 ) ****** iter =  5  (J =  0.0127805545527 ) ****** iter =  6  (J =  0.0127805545527 ) ****** iter =  7  (J =  0.0127805545527 ) *** \n",
      " ................................... Train set distortion =  0.213804420195\n",
      " ................................... Test set distortion =  0.344426063143\n",
      "*** iter =  1  (J =  0.0197734294098 ) ***"
     ]
    },
    {
     "name": "stderr",
     "output_type": "stream",
     "text": [
      "/home/sssohrab/Dropbox/Py/Projects/RRQ/Tools.py:55: RuntimeWarning: divide by zero encountered in true_divide\n",
      "  np.abs(np.sum(0.5 * (1 / n) * np.log2(np.maximum(1, Sigma2_nz / gamma))) - Rate)\n"
     ]
    },
    {
     "name": "stdout",
     "output_type": "stream",
     "text": [
      "*** iter =  2  (J =  0.0135475310223 ) ****** iter =  3  (J =  0.0133146925889 ) ****** iter =  4  (J =  0.0132632076303 ) ****** iter =  5  (J =  0.0132422552954 ) ****** iter =  6  (J =  0.0132379199546 ) ****** iter =  7  (J =  0.0132373214766 ) ****** iter =  8  (J =  0.0132373214704 ) ****** iter =  9  (J =  0.0132373214704 ) *** \n",
      " ................................... Train set distortion =  0.220925775003\n",
      " ................................... Test set distortion =  0.337999318885\n",
      "repetition =  4\n",
      " ########################  SType =  MNIST ################################\n"
     ]
    },
    {
     "name": "stderr",
     "output_type": "stream",
     "text": [
      "/home/sssohrab/Dropbox/Py/Projects/RRQ/Tools.py:55: RuntimeWarning: divide by zero encountered in true_divide\n",
      "  np.abs(np.sum(0.5 * (1 / n) * np.log2(np.maximum(1, Sigma2_nz / gamma))) - Rate)\n"
     ]
    },
    {
     "name": "stdout",
     "output_type": "stream",
     "text": [
      "*** iter =  1  (J =  0.0269051445634 ) ****** iter =  2  (J =  0.0137321319166 ) ****** iter =  3  (J =  0.0132530228426 ) ****** iter =  4  (J =  0.0130783791528 ) ****** iter =  5  (J =  0.0129887733235 ) ****** iter =  6  (J =  0.0129657592486 ) ****** iter =  7  (J =  0.0129629609792 ) ****** iter =  8  (J =  0.0129629609792 ) ****** iter =  9  (J =  0.0129629609792 ) *** \n",
      " ................................... Train set distortion =  0.215397391512\n",
      " ................................... Test set distortion =  0.347916395763\n",
      "*** iter =  1  (J =  0.0207193313235 ) ***"
     ]
    },
    {
     "name": "stderr",
     "output_type": "stream",
     "text": [
      "/home/sssohrab/Dropbox/Py/Projects/RRQ/Tools.py:55: RuntimeWarning: divide by zero encountered in true_divide\n",
      "  np.abs(np.sum(0.5 * (1 / n) * np.log2(np.maximum(1, Sigma2_nz / gamma))) - Rate)\n"
     ]
    },
    {
     "name": "stdout",
     "output_type": "stream",
     "text": [
      "*** iter =  2  (J =  0.0130544501637 ) ****** iter =  3  (J =  0.0128490851329 ) ****** iter =  4  (J =  0.0128262125952 ) ****** iter =  5  (J =  0.0128173024835 ) ****** iter =  6  (J =  0.0128155763651 ) ****** iter =  7  (J =  0.0128155763651 ) ****** iter =  8  (J =  0.0128155763651 ) *** \n",
      " ................................... Train set distortion =  0.212948393827\n",
      " ................................... Test set distortion =  0.344651144596\n",
      "*** iter =  1  (J =  0.0193803643676 ) ***"
     ]
    },
    {
     "name": "stderr",
     "output_type": "stream",
     "text": [
      "/home/sssohrab/Dropbox/Py/Projects/RRQ/Tools.py:55: RuntimeWarning: divide by zero encountered in true_divide\n",
      "  np.abs(np.sum(0.5 * (1 / n) * np.log2(np.maximum(1, Sigma2_nz / gamma))) - Rate)\n"
     ]
    },
    {
     "name": "stdout",
     "output_type": "stream",
     "text": [
      "*** iter =  2  (J =  0.0135063551184 ) ****** iter =  3  (J =  0.0133260157431 ) ****** iter =  4  (J =  0.0132616679308 ) ****** iter =  5  (J =  0.0132362810244 ) ****** iter =  6  (J =  0.0132309614249 ) ****** iter =  7  (J =  0.0132309613695 ) ****** iter =  8  (J =  0.0132309613696 ) *** \n",
      " ................................... Train set distortion =  0.219325004681\n",
      " ................................... Test set distortion =  0.338788107993\n"
     ]
    }
   ],
   "source": [
    "numRep = 5\n",
    "for repInd in range(numRep):\n",
    "    print('repetition = ', repInd)\n",
    "    for SType,SParams in SourceDict.items():\n",
    "        print(' ########################  SType = ', SType, '################################')\n",
    "        F_train,F_test = Tools.data_generator(SParams[1],N_train,N_test,SType,SourceParam=SParams[2])\n",
    "        norm_train = np.divide(np.linalg.norm(F_train) ** 2, np.prod(F_train.shape))\n",
    "        norm_test = np.divide(np.linalg.norm(F_test) ** 2, np.prod(F_test.shape))\n",
    "        ###############################################\n",
    "        # K-means training (before possible whitening):\n",
    "        Kmeans_train = VQs.VR_Kmeans(SParams[0],lmda=0,init_method='Data',num_iter=(10,0))\n",
    "        _,_,_ = Kmeans_train.run(F_train)\n",
    "        exec('dist_Kmeans1_'+ SType + '_train.append(Kmeans_train.distortion/norm_train)')\n",
    "        print(' \\n ................................... Train set distortion = ',Kmeans_train.distortion/norm_train)\n",
    "        # K-means testing:\n",
    "        Kmeans_test = VQs.VQ_unit(Kmeans_train.C)\n",
    "        F_out,_,_ = Kmeans_test.run(F_test)\n",
    "        exec('dist_Kmeans1_'+ SType + '_test.append(Kmeans_test.distortion/norm_test)')\n",
    "        print(' ................................... Test set distortion = ',Kmeans_test.distortion/norm_test)\n",
    "        ######### Whitening:\n",
    "        if SType in ['MNIST', 'AR1', 'CYale']:\n",
    "            F_train,EigVecs,dim_means = SubbandPCA_whitner(F_train,numSB=SParams[5],EigVecs=None,dim_means=None)\n",
    "            F_test,_,_ = SubbandPCA_whitner(F_test,numSB=1,EigVecs=EigVecs,dim_means=dim_means)\n",
    "        ###############################################\n",
    "        # K-means training (after possible whitening):\n",
    "        del Kmeans_train\n",
    "        del Kmeans_test\n",
    "        Kmeans_train = VQs.VR_Kmeans(SParams[0],lmda=0,init_method='Data',num_iter=(10,0))\n",
    "        _,_,_ = Kmeans_train.run(F_train)\n",
    "        exec('dist_Kmeans2_'+ SType + '_train.append(Kmeans_train.distortion/norm_train)')\n",
    "        print(' \\n ................................... Train set distortion = ',Kmeans_train.distortion/norm_train)\n",
    "        # K-means testing:\n",
    "        Kmeans_test = VQs.VQ_unit(Kmeans_train.C)\n",
    "        F_out,_,_ = Kmeans_test.run(F_test)\n",
    "        exec('dist_Kmeans2_'+ SType + '_test.append(Kmeans_test.distortion/norm_test)')\n",
    "        print(' ................................... Test set distortion = ',Kmeans_test.distortion/norm_test)    \n",
    "        ###############################################\n",
    "        # VR-Kmeans training:\n",
    "        VRKmeans_train = VQs.VR_Kmeans(SParams[0],lmda=SParams[3],init_method='Data',num_iter=(10,8),eta=5e-1,gamma_p=SParams[4])\n",
    "        _,_,_ = VRKmeans_train.run(F_train)\n",
    "        exec('dist_VRKmeans_'+ SType + '_train.append(VRKmeans_train.distortion/norm_train)')\n",
    "        print(' \\n ................................... Train set distortion = ',VRKmeans_train.distortion/norm_train)\n",
    "        # VR-Kmeans testing:\n",
    "        VRKmeans_test = VQs.VQ_unit(VRKmeans_train.C)\n",
    "        F_out,_,_ = VRKmeans_test.run(F_test)\n",
    "        exec('dist_VRKmeans_'+ SType + '_test.append(VRKmeans_test.distortion/norm_test)')\n",
    "        print(' ................................... Test set distortion = ',VRKmeans_test.distortion/norm_test)\n",
    "#         del VRKmeans_train\n",
    "#         del VRKmeans_test\n",
    "        "
   ]
  },
  {
   "cell_type": "code",
   "execution_count": 5,
   "metadata": {},
   "outputs": [
    {
     "data": {
      "text/plain": [
       "[<matplotlib.lines.Line2D at 0x7fae532eb828>]"
      ]
     },
     "execution_count": 5,
     "metadata": {},
     "output_type": "execute_result"
    },
    {
     "data": {
      "image/png": "[encoded data removed]",
      "text/plain": [
       "<matplotlib.figure.Figure at 0x7fae801d1438>"
      ]
     },
     "metadata": {},
     "output_type": "display_data"
    }
   ],
   "source": [
    "plt.plot(F_test[:,0])"
   ]
  },
  {
   "cell_type": "code",
   "execution_count": 6,
   "metadata": {},
   "outputs": [
    {
     "data": {
      "text/plain": [
       "[<matplotlib.lines.Line2D at 0x7fae532282e8>]"
      ]
     },
     "execution_count": 6,
     "metadata": {},
     "output_type": "execute_result"
    },
    {
     "data": {
      "image/png": "[encoded data removed]",
      "text/plain": [
       "<matplotlib.figure.Figure at 0x7fae532ebac8>"
      ]
     },
     "metadata": {},
     "output_type": "display_data"
    }
   ],
   "source": [
    "plt.plot(VRKmeans_train.Sigma2)"
   ]
  },
  {
   "cell_type": "code",
   "execution_count": 7,
   "metadata": {},
   "outputs": [],
   "source": [
    "# print(np.mean(dist_Kmeans1_iid_train))\n",
    "# print(np.mean(dist_Kmeans1_iid_test))\n",
    "# print(np.mean(dist_Kmeans2_iid_train))\n",
    "# print(np.mean(dist_Kmeans2_iid_test))\n",
    "# print(np.mean(dist_VRKmeans_iid_train))\n",
    "# print(np.mean(dist_VRKmeans_iid_test))"
   ]
  },
  {
   "cell_type": "code",
   "execution_count": 8,
   "metadata": {},
   "outputs": [],
   "source": [
    "# print(np.mean(dist_Kmeans1_VarDecay_train))\n",
    "# print(np.mean(dist_Kmeans1_VarDecay_test))\n",
    "# print(np.mean(dist_Kmeans2_VarDecay_train))\n",
    "# print(np.mean(dist_Kmeans2_VarDecay_test))\n",
    "# print(np.mean(dist_VRKmeans_VarDecay_train))\n",
    "# print(np.mean(dist_VRKmeans_VarDecay_test))"
   ]
  },
  {
   "cell_type": "code",
   "execution_count": 9,
   "metadata": {},
   "outputs": [],
   "source": [
    "# print(np.mean(dist_Kmeans1_AR1_train))\n",
    "# print(np.mean(dist_Kmeans1_AR1_test))\n",
    "# print(np.mean(dist_Kmeans2_AR1_train))\n",
    "# print(np.mean(dist_Kmeans2_AR1_test))\n",
    "# print(np.mean(dist_VRKmeans_AR1_train))\n",
    "# print(np.mean(dist_VRKmeans_AR1_test))"
   ]
  },
  {
   "cell_type": "code",
   "execution_count": 10,
   "metadata": {},
   "outputs": [
    {
     "name": "stdout",
     "output_type": "stream",
     "text": [
      "0.214822767632\n",
      "0.346911792981\n",
      "0.209524406844\n",
      "0.342564145474\n",
      "0.219219173333\n",
      "0.337038052766\n"
     ]
    }
   ],
   "source": [
    "print(np.mean(dist_Kmeans1_MNIST_train))\n",
    "print(np.mean(dist_Kmeans1_MNIST_test))\n",
    "print(np.mean(dist_Kmeans2_MNIST_train))\n",
    "print(np.mean(dist_Kmeans2_MNIST_test))\n",
    "print(np.mean(dist_VRKmeans_MNIST_train))\n",
    "print(np.mean(dist_VRKmeans_MNIST_test))"
   ]
  }
 ],
 "metadata": {
  "anaconda-cloud": {},
  "kernelspec": {
   "display_name": "Python [conda root]",
   "language": "python",
   "name": "conda-root-py"
  },
  "language_info": {
   "codemirror_mode": {
    "name": "ipython",
    "version": 3
   },
   "file_extension": ".py",
   "mimetype": "text/x-python",
   "name": "python",
   "nbconvert_exporter": "python",
   "pygments_lexer": "ipython3",
   "version": "3.6.6"
  }
 },
 "nbformat": 4,
 "nbformat_minor": 1
}
