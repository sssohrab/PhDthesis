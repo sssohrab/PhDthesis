{
 "cells": [
  {
   "cell_type": "markdown",
   "metadata": {},
   "source": [
    "Attention! I didn't have time to entirely automate this experiment. But it's very easy to exactly reproduce the results, just by manually setting some hyper-parameters as listed.\n",
    "\n",
    "For different values of Rho (i.e., 0,0.5,0.99), the proper lmda's and gamma_p's should change. Just replace them from the lists provided."
   ]
  },
  {
   "cell_type": "code",
   "execution_count": 1,
   "metadata": {},
   "outputs": [],
   "source": [
    "import RRQ.VQs as VQs\n",
    "import RRQ.Tools as Tools\n",
    "import numpy as np\n",
    "%matplotlib inline\n",
    "import matplotlib.pyplot as plt\n",
    "from sparse_ternary_networks.Tools import SubbandPCA_whitner\n",
    "from scipy.linalg import toeplitz\n",
    "from scipy.linalg import eigh"
   ]
  },
  {
   "cell_type": "code",
   "execution_count": 2,
   "metadata": {},
   "outputs": [],
   "source": [
    "N_test = 10000\n",
    "#N_train = 1000\n",
    "n = 1000\n",
    "SType = 'AR1'\n",
    "numRep = 2\n",
    "# For Rho = 0.99 use:\n",
    "#mList = [2,4,8,16,32,64,128,256,512,1024,2048]\n",
    "# For Rho = 0 use:\n",
    "mList = [256,512,1024,2048]\n",
    "RhoList = [0]\n",
    "#lmdaList = [1e5,1e2,1e-1]  # ATTENTION!  Put this manually for lmda, for each Rho\n",
    "RateList = np.hstack(([0],np.array(np.log2(mList)/n)))"
   ]
  },
  {
   "cell_type": "code",
   "execution_count": 3,
   "metadata": {},
   "outputs": [
    {
     "data": {
      "text/plain": [
       "array([0.   , 0.008, 0.009, 0.01 , 0.011])"
      ]
     },
     "execution_count": 3,
     "metadata": {},
     "output_type": "execute_result"
    }
   ],
   "source": [
    "RateList"
   ]
  },
  {
   "cell_type": "code",
   "execution_count": 4,
   "metadata": {},
   "outputs": [
    {
     "name": "stdout",
     "output_type": "stream",
     "text": [
      "Repetition =  1\n",
      "# of centroids =  256\n",
      "Rho =  0\n",
      " \n",
      " ............................... Train set distortion =  0.8543911012722608\n",
      " ................................... Test set distortion =  1.0052942580302238\n",
      " \n",
      " ................................... Train set distortion =  0.8542568888536698\n",
      " ................................... Test set distortion =  1.0040496461320543\n",
      " \n",
      " .............................. Train set distortion =  0.9681985590878847\n",
      " ................................. Test set distortion =  0.9970997942612277\n",
      "# of centroids =  512\n",
      "Rho =  0\n",
      " \n",
      " ............................... Train set distortion =  0.7208109456217541\n",
      " ................................... Test set distortion =  1.0090018640491232\n",
      " \n",
      " ................................... Train set distortion =  0.7202879409688042\n",
      " ................................... Test set distortion =  1.0104719788396515\n",
      " \n",
      " .............................. Train set distortion =  0.9508643745106209\n",
      " ................................. Test set distortion =  0.9962656281749241\n",
      "# of centroids =  1024\n",
      "Rho =  0\n",
      " \n",
      " ............................... Train set distortion =  0.47611036019714453\n",
      " ................................... Test set distortion =  1.0184846212327283\n",
      " \n",
      " ................................... Train set distortion =  0.47832707376329564\n",
      " ................................... Test set distortion =  1.0089916945735142\n"
     ]
    },
    {
     "ename": "KeyboardInterrupt",
     "evalue": "",
     "output_type": "error",
     "traceback": [
      "\u001b[0;31m---------------------------------------------------------------------------\u001b[0m",
      "\u001b[0;31mKeyboardInterrupt\u001b[0m                         Traceback (most recent call last)",
      "\u001b[0;32m<ipython-input-4-d06909050bdc>\u001b[0m in \u001b[0;36m<module>\u001b[0;34m()\u001b[0m\n\u001b[1;32m     53\u001b[0m             \u001b[0;31m# VR-Kmeans training:\u001b[0m\u001b[0;34m\u001b[0m\u001b[0;34m\u001b[0m\u001b[0m\n\u001b[1;32m     54\u001b[0m             \u001b[0mVRKmeans_train\u001b[0m \u001b[0;34m=\u001b[0m \u001b[0mVQs\u001b[0m\u001b[0;34m.\u001b[0m\u001b[0mVR_Kmeans\u001b[0m\u001b[0;34m(\u001b[0m\u001b[0mm\u001b[0m\u001b[0;34m,\u001b[0m \u001b[0mlmda\u001b[0m\u001b[0;34m=\u001b[0m\u001b[0;36m1e5\u001b[0m\u001b[0;34m,\u001b[0m \u001b[0minit_method\u001b[0m\u001b[0;34m=\u001b[0m\u001b[0;34m'Data'\u001b[0m\u001b[0;34m,\u001b[0m \u001b[0mnum_iter\u001b[0m\u001b[0;34m=\u001b[0m\u001b[0;34m(\u001b[0m\u001b[0;36m10\u001b[0m\u001b[0;34m,\u001b[0m \u001b[0;36m8\u001b[0m\u001b[0;34m)\u001b[0m\u001b[0;34m,\u001b[0m \u001b[0meta\u001b[0m\u001b[0;34m=\u001b[0m\u001b[0;36m5e-1\u001b[0m\u001b[0;34m,\u001b[0m \u001b[0mgamma_p\u001b[0m\u001b[0;34m=\u001b[0m\u001b[0;36m0.0\u001b[0m\u001b[0;34m)\u001b[0m\u001b[0;34m\u001b[0m\u001b[0m\n\u001b[0;32m---> 55\u001b[0;31m             \u001b[0m_\u001b[0m\u001b[0;34m,\u001b[0m \u001b[0m_\u001b[0m\u001b[0;34m,\u001b[0m \u001b[0m_\u001b[0m \u001b[0;34m=\u001b[0m \u001b[0mVRKmeans_train\u001b[0m\u001b[0;34m.\u001b[0m\u001b[0mrun\u001b[0m\u001b[0;34m(\u001b[0m\u001b[0mF_train\u001b[0m\u001b[0;34m)\u001b[0m\u001b[0;34m\u001b[0m\u001b[0m\n\u001b[0m\u001b[1;32m     56\u001b[0m             \u001b[0mDist_VRKmeans_train\u001b[0m\u001b[0;34m[\u001b[0m\u001b[0mRhoInd\u001b[0m\u001b[0;34m,\u001b[0m\u001b[0mmInd\u001b[0m\u001b[0;34m,\u001b[0m\u001b[0mrepInd\u001b[0m\u001b[0;34m]\u001b[0m \u001b[0;34m=\u001b[0m \u001b[0mVRKmeans_train\u001b[0m\u001b[0;34m.\u001b[0m\u001b[0mdistortion\u001b[0m \u001b[0;34m/\u001b[0m \u001b[0mnorm_train\u001b[0m\u001b[0;34m\u001b[0m\u001b[0m\n\u001b[1;32m     57\u001b[0m             \u001b[0mprint\u001b[0m\u001b[0;34m(\u001b[0m\u001b[0;34m' \\n .............................. Train set distortion = '\u001b[0m\u001b[0;34m,\u001b[0m\u001b[0mVRKmeans_train\u001b[0m\u001b[0;34m.\u001b[0m\u001b[0mdistortion\u001b[0m \u001b[0;34m/\u001b[0m \u001b[0mnorm_train\u001b[0m\u001b[0;34m)\u001b[0m\u001b[0;34m\u001b[0m\u001b[0m\n",
      "\u001b[0;32m~/Dropbox/Py/RRQ/RRQ/VQs.py\u001b[0m in \u001b[0;36mrun\u001b[0;34m(self, F_in)\u001b[0m\n\u001b[1;32m    276\u001b[0m                     \u001b[0mcost_func_iter\u001b[0m\u001b[0;34m.\u001b[0m\u001b[0mappend\u001b[0m\u001b[0;34m(\u001b[0m\u001b[0mcost_func\u001b[0m\u001b[0;34m(\u001b[0m\u001b[0mC\u001b[0m\u001b[0;34m,\u001b[0m \u001b[0mX_ind\u001b[0m\u001b[0;34m)\u001b[0m\u001b[0;34m)\u001b[0m\u001b[0;34m\u001b[0m\u001b[0m\n\u001b[1;32m    277\u001b[0m                     \u001b[0;31m# print('*** iter = ', iter + 1, ' (J = ', cost_func_iter[-1],') ***', end='')\u001b[0m\u001b[0;34m\u001b[0m\u001b[0;34m\u001b[0m\u001b[0m\n\u001b[0;32m--> 278\u001b[0;31m                     \u001b[0mC\u001b[0m\u001b[0;34m,\u001b[0m \u001b[0mEmptyClust\u001b[0m \u001b[0;34m=\u001b[0m \u001b[0mself\u001b[0m\u001b[0;34m.\u001b[0m\u001b[0mstep2_CUpdate\u001b[0m\u001b[0;34m(\u001b[0m\u001b[0mF_in\u001b[0m\u001b[0;34m,\u001b[0m \u001b[0mX_ind\u001b[0m\u001b[0;34m,\u001b[0m \u001b[0mC\u001b[0m\u001b[0;34m)\u001b[0m\u001b[0;34m\u001b[0m\u001b[0m\n\u001b[0m\u001b[1;32m    279\u001b[0m                     \u001b[0;32mif\u001b[0m \u001b[0mlen\u001b[0m\u001b[0;34m(\u001b[0m\u001b[0mcost_func_iter\u001b[0m\u001b[0;34m)\u001b[0m \u001b[0;34m>\u001b[0m \u001b[0;36m3\u001b[0m\u001b[0;34m:\u001b[0m\u001b[0;34m\u001b[0m\u001b[0m\n\u001b[1;32m    280\u001b[0m                         \u001b[0;32mif\u001b[0m \u001b[0mmax\u001b[0m\u001b[0;34m(\u001b[0m\u001b[0mcost_func_iter\u001b[0m\u001b[0;34m[\u001b[0m\u001b[0;34m-\u001b[0m\u001b[0;36m3\u001b[0m\u001b[0;34m:\u001b[0m\u001b[0;34m]\u001b[0m\u001b[0;34m)\u001b[0m \u001b[0;34m-\u001b[0m \u001b[0mmin\u001b[0m\u001b[0;34m(\u001b[0m\u001b[0mcost_func_iter\u001b[0m\u001b[0;34m[\u001b[0m\u001b[0;34m-\u001b[0m\u001b[0;36m3\u001b[0m\u001b[0;34m:\u001b[0m\u001b[0;34m]\u001b[0m\u001b[0;34m)\u001b[0m \u001b[0;34m<\u001b[0m \u001b[0;36m1e-5\u001b[0m \u001b[0;34m*\u001b[0m \u001b[0mcost_func_iter\u001b[0m\u001b[0;34m[\u001b[0m\u001b[0;36m0\u001b[0m\u001b[0;34m]\u001b[0m\u001b[0;34m:\u001b[0m\u001b[0;34m\u001b[0m\u001b[0m\n",
      "\u001b[0;32m~/Dropbox/Py/RRQ/RRQ/VQs.py\u001b[0m in \u001b[0;36mstep2_CUpdate\u001b[0;34m(self, F_in, X_ind, C)\u001b[0m\n\u001b[1;32m    212\u001b[0m                 \u001b[0mz_j\u001b[0m \u001b[0;34m=\u001b[0m \u001b[0mnp\u001b[0m\u001b[0;34m.\u001b[0m\u001b[0mreshape\u001b[0m\u001b[0;34m(\u001b[0m\u001b[0mF_in\u001b[0m\u001b[0;34m[\u001b[0m\u001b[0mj\u001b[0m\u001b[0;34m,\u001b[0m \u001b[0;34m:\u001b[0m\u001b[0;34m]\u001b[0m \u001b[0;34m@\u001b[0m \u001b[0mind2X\u001b[0m\u001b[0;34m(\u001b[0m\u001b[0mX_ind\u001b[0m\u001b[0;34m,\u001b[0m \u001b[0mself\u001b[0m\u001b[0;34m.\u001b[0m\u001b[0mm\u001b[0m\u001b[0;34m)\u001b[0m\u001b[0;34m.\u001b[0m\u001b[0mtoarray\u001b[0m\u001b[0;34m(\u001b[0m\u001b[0;34m)\u001b[0m\u001b[0;34m.\u001b[0m\u001b[0mT\u001b[0m\u001b[0;34m,\u001b[0m \u001b[0;34m(\u001b[0m\u001b[0;34m-\u001b[0m\u001b[0;36m1\u001b[0m\u001b[0;34m,\u001b[0m \u001b[0;36m1\u001b[0m\u001b[0;34m)\u001b[0m\u001b[0;34m)\u001b[0m\u001b[0;34m\u001b[0m\u001b[0m\n\u001b[1;32m    213\u001b[0m                 \u001b[0msigma2j\u001b[0m \u001b[0;34m=\u001b[0m \u001b[0mself\u001b[0m\u001b[0;34m.\u001b[0m\u001b[0mS\u001b[0m\u001b[0;34m[\u001b[0m\u001b[0mj\u001b[0m\u001b[0;34m,\u001b[0m \u001b[0mj\u001b[0m\u001b[0;34m]\u001b[0m\u001b[0;34m\u001b[0m\u001b[0m\n\u001b[0;32m--> 214\u001b[0;31m                 \u001b[0mc_j\u001b[0m\u001b[0;34m,\u001b[0m \u001b[0mPD_test\u001b[0m \u001b[0;34m=\u001b[0m \u001b[0mself\u001b[0m\u001b[0;34m.\u001b[0m\u001b[0moptimize_per_dim\u001b[0m\u001b[0;34m(\u001b[0m\u001b[0mc_j\u001b[0m\u001b[0;34m,\u001b[0m \u001b[0mz_j\u001b[0m\u001b[0;34m,\u001b[0m \u001b[0mzeta\u001b[0m\u001b[0;34m,\u001b[0m \u001b[0msigma2j\u001b[0m\u001b[0;34m,\u001b[0m \u001b[0mN\u001b[0m\u001b[0;34m)\u001b[0m\u001b[0;34m\u001b[0m\u001b[0m\n\u001b[0m\u001b[1;32m    215\u001b[0m                 \u001b[0mC\u001b[0m\u001b[0;34m[\u001b[0m\u001b[0mj\u001b[0m\u001b[0;34m,\u001b[0m \u001b[0;34m:\u001b[0m\u001b[0;34m]\u001b[0m \u001b[0;34m=\u001b[0m \u001b[0mc_j\u001b[0m\u001b[0;34m.\u001b[0m\u001b[0mreshape\u001b[0m\u001b[0;34m(\u001b[0m\u001b[0;36m1\u001b[0m\u001b[0;34m,\u001b[0m \u001b[0;34m-\u001b[0m\u001b[0;36m1\u001b[0m\u001b[0;34m)\u001b[0m\u001b[0;34m\u001b[0m\u001b[0m\n\u001b[1;32m    216\u001b[0m         \u001b[0;32mreturn\u001b[0m \u001b[0mC\u001b[0m\u001b[0;34m,\u001b[0m \u001b[0mEmptyClust\u001b[0m\u001b[0;34m\u001b[0m\u001b[0m\n",
      "\u001b[0;32m~/Dropbox/Py/RRQ/RRQ/VQs.py\u001b[0m in \u001b[0;36moptimize_per_dim\u001b[0;34m(self, c_j, z_j, zeta, sigma2j, N)\u001b[0m\n\u001b[1;32m    178\u001b[0m             \u001b[0mzeta_p\u001b[0m \u001b[0;34m=\u001b[0m \u001b[0mzeta\u001b[0m \u001b[0;34m+\u001b[0m \u001b[0;36m2\u001b[0m \u001b[0;34m*\u001b[0m \u001b[0mself\u001b[0m\u001b[0;34m.\u001b[0m\u001b[0mlmda\u001b[0m \u001b[0;34m*\u001b[0m \u001b[0mtemp_var_mismatch\u001b[0m\u001b[0;34m\u001b[0m\u001b[0m\n\u001b[1;32m    179\u001b[0m             \u001b[0mtmp\u001b[0m \u001b[0;34m=\u001b[0m \u001b[0mnp\u001b[0m\u001b[0;34m.\u001b[0m\u001b[0mdiag\u001b[0m\u001b[0;34m(\u001b[0m\u001b[0;36m1\u001b[0m \u001b[0;34m/\u001b[0m \u001b[0mzeta_p\u001b[0m\u001b[0;34m.\u001b[0m\u001b[0mreshape\u001b[0m\u001b[0;34m(\u001b[0m\u001b[0;34m-\u001b[0m\u001b[0;36m1\u001b[0m\u001b[0;34m)\u001b[0m\u001b[0;34m)\u001b[0m\u001b[0;34m\u001b[0m\u001b[0m\n\u001b[0;32m--> 180\u001b[0;31m             \u001b[0mtmp2\u001b[0m \u001b[0;34m=\u001b[0m \u001b[0mc_j\u001b[0m \u001b[0;34m@\u001b[0m \u001b[0mc_j\u001b[0m\u001b[0;34m.\u001b[0m\u001b[0mT\u001b[0m\u001b[0;34m\u001b[0m\u001b[0m\n\u001b[0m\u001b[1;32m    181\u001b[0m             \u001b[0;31m# Hess = np.diag(zeta_p.reshape(-1)) + 2 * self.lmda * tmp2\u001b[0m\u001b[0;34m\u001b[0m\u001b[0;34m\u001b[0m\u001b[0m\n\u001b[1;32m    182\u001b[0m             \u001b[0;31m# assert is_PD(Hess)\u001b[0m\u001b[0;34m\u001b[0m\u001b[0;34m\u001b[0m\u001b[0m\n",
      "\u001b[0;31mKeyboardInterrupt\u001b[0m: "
     ]
    }
   ],
   "source": [
    "Dist_Kmeans1_train = np.zeros((len(RhoList),len(mList),numRep))\n",
    "Dist_Kmeans1_test = np.zeros((len(RhoList),len(mList),numRep))\n",
    "Dist_Kmeans2_train = np.zeros((len(RhoList),len(mList),numRep))\n",
    "Dist_Kmeans2_test = np.zeros((len(RhoList),len(mList),numRep))\n",
    "Dist_VRKmeans_train = np.zeros((len(RhoList),len(mList),numRep))\n",
    "Dist_VRKmeans_test = np.zeros((len(RhoList),len(mList),numRep))\n",
    "################################################################\n",
    "for repInd in range(numRep):\n",
    "    print('Repetition = ',repInd + 1)\n",
    "    for mInd,m in enumerate(mList):\n",
    "        print('# of centroids = ',m)\n",
    "        for RhoInd,Rho in enumerate(RhoList):\n",
    "            print('Rho = ',Rho)\n",
    "            ###############################################\n",
    "            # For rho = 0 use:\n",
    "            N_train = np.min([np.max([2000,2*m]),5000])\n",
    "            # For rho = 0.99 use:\n",
    "            # N_train = np.min([np.max([200,2*m]),3000])\n",
    "            F_train,F_test = Tools.data_generator(n,N_train,N_test,SType,SourceParam=Rho)\n",
    "            norm_train = np.divide(np.linalg.norm(F_train) ** 2, np.prod(F_train.shape))\n",
    "            norm_test = np.divide(np.linalg.norm(F_test) ** 2, np.prod(F_test.shape))\n",
    "            ###############################################\n",
    "            # K-means training (before possible whitening):\n",
    "            Kmeans_train = VQs.VR_Kmeans(m, lmda=0, init_method='Data', num_iter=(10, 0))\n",
    "            _, _, _ = Kmeans_train.run(F_train)\n",
    "            Dist_Kmeans1_train[RhoInd,mInd,repInd] = Kmeans_train.distortion / norm_train\n",
    "            print(' \\n ............................... Train set distortion = ', Kmeans_train.distortion / norm_train)\n",
    "            # K-means testing:\n",
    "            Kmeans_test = VQs.VQ_unit(Kmeans_train.C)\n",
    "            F_out, _, _ = Kmeans_test.run(F_test)\n",
    "            Dist_Kmeans1_test[RhoInd,mInd,repInd] = Kmeans_test.distortion / norm_test\n",
    "            print(' ................................... Test set distortion = ', Kmeans_test.distortion / norm_test)\n",
    "            ######### Whitening:\n",
    "            if SType in ['MNIST', 'AR1', 'CYale']:\n",
    "                F_train, EigVecs, dim_means = SubbandPCA_whitner(F_train, numSB=1, EigVecs=None,\n",
    "                                                                 dim_means=None)\n",
    "                F_test, _, _ = SubbandPCA_whitner(F_test, numSB=1, EigVecs=EigVecs, dim_means=dim_means)\n",
    "            ###############################################\n",
    "            # K-means training (after possible whitening):\n",
    "            del Kmeans_train\n",
    "            del Kmeans_test\n",
    "            Kmeans_train = VQs.VR_Kmeans(m, lmda=0, init_method='Data', num_iter=(10, 0))\n",
    "            _, _, _ = Kmeans_train.run(F_train)\n",
    "            Dist_Kmeans2_train[RhoInd,mInd,repInd] = Kmeans_train.distortion / norm_train\n",
    "            print(' \\n ................................... Train set distortion = ',\n",
    "                  Kmeans_train.distortion / norm_train)\n",
    "            # K-means testing:\n",
    "            Kmeans_test = VQs.VQ_unit(Kmeans_train.C)\n",
    "            F_out, _, _ = Kmeans_test.run(F_test)\n",
    "            Dist_Kmeans2_test[RhoInd,mInd,repInd] = Kmeans_test.distortion / norm_test\n",
    "            print(' ................................... Test set distortion = ', Kmeans_test.distortion / norm_test)\n",
    "            ###############################################\n",
    "            # VR-Kmeans training:\n",
    "            VRKmeans_train = VQs.VR_Kmeans(m, lmda=1e5, init_method='Data', num_iter=(10, 8), eta=5e-1, gamma_p=0.0)\n",
    "            _, _, _ = VRKmeans_train.run(F_train)\n",
    "            Dist_VRKmeans_train[RhoInd,mInd,repInd] = VRKmeans_train.distortion / norm_train\n",
    "            print(' \\n .............................. Train set distortion = ',VRKmeans_train.distortion / norm_train)\n",
    "            # VR-Kmeans testing:\n",
    "            VRKmeans_test = VQs.VQ_unit(VRKmeans_train.C)\n",
    "            F_out, _, _ = VRKmeans_test.run(F_test)\n",
    "            Dist_VRKmeans_test[RhoInd,mInd,repInd] = VRKmeans_test.distortion / norm_test\n",
    "            print(' ................................. Test set distortion = ', VRKmeans_test.distortion / norm_test)\n",
    "            #         del VRKmeans_train\n",
    "            #         del VRKmeans_test\n",
    "            "
   ]
  },
  {
   "cell_type": "code",
   "execution_count": null,
   "metadata": {},
   "outputs": [],
   "source": [
    "Dist_Kmeans1_train = np.hstack((np.ones((len(RhoList),1,numRep)),Dist_Kmeans1_train))\n",
    "Dist_Kmeans1_test = np.hstack((np.ones((len(RhoList),1,numRep)),Dist_Kmeans1_test))\n",
    "Dist_Kmeans2_train = np.hstack((np.ones((len(RhoList),1,numRep)),Dist_Kmeans2_train))\n",
    "Dist_Kmeans2_test = np.hstack((np.ones((len(RhoList),1,numRep)),Dist_Kmeans2_test))\n",
    "Dist_VRKmeans_train = np.hstack((np.ones((len(RhoList),1,numRep)),Dist_VRKmeans_train))\n",
    "Dist_VRKmeans_test = np.hstack((np.ones((len(RhoList),1,numRep)),Dist_VRKmeans_test))"
   ]
  },
  {
   "cell_type": "code",
   "execution_count": null,
   "metadata": {},
   "outputs": [],
   "source": [
    "plt.plot(RateList,np.mean(Dist_Kmeans1_train[0,:,:],axis=1))\n",
    "plt.plot(RateList,np.mean(Dist_Kmeans1_test[0,:,:],axis=1))\n",
    "\n",
    "plt.plot(RateList,np.mean(Dist_VRKmeans_train[0,:,:],axis=1))\n",
    "plt.plot(RateList,np.mean(Dist_VRKmeans_test[0,:,:],axis=1))\n",
    "plt.grid()"
   ]
  },
  {
   "cell_type": "code",
   "execution_count": null,
   "metadata": {},
   "outputs": [],
   "source": [
    "curve_dict = {}\n",
    "curve_dict['Rho2_D_R_Kmeans_train'] = (RateList,np.mean(Dist_Kmeans1_train[0,:,:],axis=1))\n",
    "curve_dict['Rho2_D_R_Kmeans_test'] = (RateList,np.mean(Dist_Kmeans1_test[0,:,:],axis=1))\n",
    "#\n",
    "curve_dict['Rho2_D_R_VRKmeans_train'] = (RateList,np.mean(Dist_VRKmeans_train[0,:,:],axis=1))\n",
    "curve_dict['Rho2_D_R_VRKmeans_test'] = (RateList,np.mean(Dist_VRKmeans_test[0,:,:],axis=1))\n",
    "# ###\n",
    "# curve_dict['Rho1_D_R_Kmeans_train'] = (RateList,np.mean(Dist_Kmeans1_train[1,:,:],axis=1))\n",
    "# curve_dict['Rho1_D_R_Kmeans_test'] = (RateList,np.mean(Dist_Kmeans1_test[1,:,:],axis=1))\n",
    "# #\n",
    "# curve_dict['Rho1_D_R_VRKmeans_train'] = (RateList,np.mean(Dist_VRKmeans_train[1,:,:],axis=1))\n",
    "# curve_dict['Rho1_D_R_VRKmeans_test'] = (RateList,np.mean(Dist_VRKmeans_test[1,:,:],axis=1))\n",
    "# ###\n",
    "# curve_dict['Rho2_D_R_Kmeans_train'] = (RateList,np.mean(Dist_Kmeans1_train[2,:,:],axis=1))\n",
    "# curve_dict['Rho2_D_R_Kmeans_test'] = (RateList,np.mean(Dist_Kmeans1_test[2,:,:],axis=1))\n",
    "# #\n",
    "# curve_dict['Rho2_D_R_VRKmeans_train'] = (RateList,np.mean(Dist_VRKmeans_train[2,:,:],axis=1))\n",
    "# curve_dict['Rho2_D_R_VRKmeans_test'] = (RateList,np.mean(Dist_VRKmeans_test[2,:,:],axis=1))"
   ]
  },
  {
   "cell_type": "code",
   "execution_count": null,
   "metadata": {},
   "outputs": [],
   "source": []
  },
  {
   "cell_type": "code",
   "execution_count": null,
   "metadata": {},
   "outputs": [],
   "source": [
    "RateList"
   ]
  },
  {
   "cell_type": "code",
   "execution_count": 5,
   "metadata": {},
   "outputs": [
    {
     "name": "stdout",
     "output_type": "stream",
     "text": [
      "Rho =  0\n"
     ]
    },
    {
     "ename": "IndexError",
     "evalue": "index 1 is out of bounds for axis 0 with size 1",
     "output_type": "error",
     "traceback": [
      "\u001b[0;31m---------------------------------------------------------------------------\u001b[0m",
      "\u001b[0;31mIndexError\u001b[0m                                Traceback (most recent call last)",
      "\u001b[0;32m<ipython-input-5-196a8dbe2308>\u001b[0m in \u001b[0;36m<module>\u001b[0;34m()\u001b[0m\n\u001b[1;32m     31\u001b[0m \u001b[0mcurve_dict\u001b[0m \u001b[0;34m=\u001b[0m \u001b[0;34m{\u001b[0m\u001b[0;34m}\u001b[0m\u001b[0;34m\u001b[0m\u001b[0m\n\u001b[1;32m     32\u001b[0m \u001b[0mcurve_dict\u001b[0m\u001b[0;34m[\u001b[0m\u001b[0;34m'Rho0_SLB'\u001b[0m\u001b[0;34m]\u001b[0m \u001b[0;34m=\u001b[0m \u001b[0;34m(\u001b[0m\u001b[0mRate_SLB\u001b[0m\u001b[0;34m,\u001b[0m\u001b[0mDistortion_SLB\u001b[0m\u001b[0;34m[\u001b[0m\u001b[0;36m0\u001b[0m\u001b[0;34m,\u001b[0m\u001b[0;34m:\u001b[0m\u001b[0;34m]\u001b[0m\u001b[0;34m)\u001b[0m\u001b[0;34m\u001b[0m\u001b[0m\n\u001b[0;32m---> 33\u001b[0;31m \u001b[0mcurve_dict\u001b[0m\u001b[0;34m[\u001b[0m\u001b[0;34m'Rho1_SLB'\u001b[0m\u001b[0;34m]\u001b[0m \u001b[0;34m=\u001b[0m \u001b[0;34m(\u001b[0m\u001b[0mRate_SLB\u001b[0m\u001b[0;34m,\u001b[0m\u001b[0mDistortion_SLB\u001b[0m\u001b[0;34m[\u001b[0m\u001b[0;36m1\u001b[0m\u001b[0;34m,\u001b[0m\u001b[0;34m:\u001b[0m\u001b[0;34m]\u001b[0m\u001b[0;34m)\u001b[0m\u001b[0;34m\u001b[0m\u001b[0m\n\u001b[0m\u001b[1;32m     34\u001b[0m \u001b[0mcurve_dict\u001b[0m\u001b[0;34m[\u001b[0m\u001b[0;34m'Rho2_SLB'\u001b[0m\u001b[0;34m]\u001b[0m \u001b[0;34m=\u001b[0m \u001b[0;34m(\u001b[0m\u001b[0mRate_SLB\u001b[0m\u001b[0;34m,\u001b[0m\u001b[0mDistortion_SLB\u001b[0m\u001b[0;34m[\u001b[0m\u001b[0;36m2\u001b[0m\u001b[0;34m,\u001b[0m\u001b[0;34m:\u001b[0m\u001b[0;34m]\u001b[0m\u001b[0;34m)\u001b[0m\u001b[0;34m\u001b[0m\u001b[0m\n",
      "\u001b[0;31mIndexError\u001b[0m: index 1 is out of bounds for axis 0 with size 1"
     ]
    },
    {
     "data": {
      "image/png": "[encoded data removed]",
      "text/plain": [
       "<Figure size 432x288 with 2 Axes>"
      ]
     },
     "metadata": {
      "needs_background": "light"
     },
     "output_type": "display_data"
    }
   ],
   "source": [
    "# SLB calculation for AR(1) sources:\n",
    "RhoList = [0]\n",
    "Rate_SLB= np.linspace(0,0.05,100)\n",
    "Distortion_SLB = np.zeros((len(RhoList),len(Rate_SLB)))\n",
    "for RhoInd,Rho in enumerate(RhoList):\n",
    "    print('Rho = ',Rho)\n",
    "   \n",
    "    if Rho == 0:\n",
    "        Distortion_SLB[RhoInd,:] = 2**(-2*Rate_SLB)\n",
    "        continue\n",
    "    cov_mat = toeplitz(Rho ** np.arange(n))\n",
    "    EigValues, _ = eigh(cov_mat)\n",
    "    for RateInd,Rate in enumerate(Rate_SLB):\n",
    "        Distortion_SLB[RhoInd,RateInd] = np.sum(Tools.rev_WaterFiller(EigValues,Rate)[3])/n\n",
    "        \n",
    "        \n",
    "#\n",
    "plt.subplot(1,2,1)\n",
    "plt.plot(Rate_SLB,Distortion_SLB[RhoInd,:],color='BLACK') \n",
    "plt.grid()\n",
    "plt.xlabel('Rate')\n",
    "plt.ylabel('Distortion')\n",
    "#\n",
    "plt.subplot(1,2,2)\n",
    "plt.semilogy(Rate_SLB,Distortion_SLB[RhoInd,:],color='BLACK') \n",
    "plt.grid()\n",
    "plt.xlabel('Rate')\n",
    "plt.ylabel('Distortion')\n",
    "\n",
    "\n",
    "curve_dict = {}\n",
    "curve_dict['Rho0_SLB'] = (Rate_SLB,Distortion_SLB[0,:])\n",
    "curve_dict['Rho1_SLB'] = (Rate_SLB,Distortion_SLB[1,:])\n",
    "curve_dict['Rho2_SLB'] = (Rate_SLB,Distortion_SLB[2,:])"
   ]
  },
  {
   "cell_type": "code",
   "execution_count": null,
   "metadata": {},
   "outputs": [],
   "source": [
    "plt.plot(RateList,np.mean(Dist_Kmeans1_test[0,:,:],axis=1))\n",
    "plt.plot(RateList,np.mean(Dist_VRKmeans_test[0,:,:],axis=1))\n",
    "plt.plot(Rate_SLB,Distortion_SLB[0,:])"
   ]
  },
  {
   "cell_type": "code",
   "execution_count": 7,
   "metadata": {},
   "outputs": [
    {
     "name": "stdout",
     "output_type": "stream",
     "text": [
      "RateLimit_Rho0_SLB.dat\n"
     ]
    }
   ],
   "source": [
    "# # # # Saving the results for PGFplott:\n",
    "# PGF_path = '/home/sssohrab/Dropbox/Thesis/Thesis/Chapter5/Pics/PGF/VR-Kmeans/dat/'\n",
    "# ExpName = 'RateLimit'\n",
    "# # # # \n",
    "# for curve_name, curve_xy in curve_dict.items():\n",
    "#     fname = ExpName + '_' + curve_name + '.dat'\n",
    "#     print(fname)\n",
    "#     x = curve_xy[0].astype(float).reshape(-1)\n",
    "#     y = curve_xy[1].astype(float).reshape(-1)\n",
    "#     np.savetxt(PGF_path + fname, np.transpose([x,y]), fmt='%8f', delimiter='   ')"
   ]
  },
  {
   "cell_type": "code",
   "execution_count": null,
   "metadata": {},
   "outputs": [],
   "source": [
    "RateList"
   ]
  },
  {
   "cell_type": "code",
   "execution_count": 6,
   "metadata": {},
   "outputs": [
    {
     "data": {
      "text/plain": [
       "{'Rho0_SLB': (array([0.        , 0.00050505, 0.0010101 , 0.00151515, 0.0020202 ,\n",
       "         0.00252525, 0.0030303 , 0.00353535, 0.0040404 , 0.00454545,\n",
       "         0.00505051, 0.00555556, 0.00606061, 0.00656566, 0.00707071,\n",
       "         0.00757576, 0.00808081, 0.00858586, 0.00909091, 0.00959596,\n",
       "         0.01010101, 0.01060606, 0.01111111, 0.01161616, 0.01212121,\n",
       "         0.01262626, 0.01313131, 0.01363636, 0.01414141, 0.01464646,\n",
       "         0.01515152, 0.01565657, 0.01616162, 0.01666667, 0.01717172,\n",
       "         0.01767677, 0.01818182, 0.01868687, 0.01919192, 0.01969697,\n",
       "         0.02020202, 0.02070707, 0.02121212, 0.02171717, 0.02222222,\n",
       "         0.02272727, 0.02323232, 0.02373737, 0.02424242, 0.02474747,\n",
       "         0.02525253, 0.02575758, 0.02626263, 0.02676768, 0.02727273,\n",
       "         0.02777778, 0.02828283, 0.02878788, 0.02929293, 0.02979798,\n",
       "         0.03030303, 0.03080808, 0.03131313, 0.03181818, 0.03232323,\n",
       "         0.03282828, 0.03333333, 0.03383838, 0.03434343, 0.03484848,\n",
       "         0.03535354, 0.03585859, 0.03636364, 0.03686869, 0.03737374,\n",
       "         0.03787879, 0.03838384, 0.03888889, 0.03939394, 0.03989899,\n",
       "         0.04040404, 0.04090909, 0.04141414, 0.04191919, 0.04242424,\n",
       "         0.04292929, 0.04343434, 0.04393939, 0.04444444, 0.04494949,\n",
       "         0.04545455, 0.0459596 , 0.04646465, 0.0469697 , 0.04747475,\n",
       "         0.0479798 , 0.04848485, 0.0489899 , 0.04949495, 0.05      ]),\n",
       "  array([1.        , 0.9993001 , 0.99860068, 0.99790176, 0.99720332,\n",
       "         0.99650538, 0.99580792, 0.99511095, 0.99441447, 0.99371847,\n",
       "         0.99302297, 0.99232795, 0.99163341, 0.99093936, 0.9902458 ,\n",
       "         0.98955273, 0.98886013, 0.98816803, 0.98747641, 0.98678527,\n",
       "         0.98609461, 0.98540444, 0.98471475, 0.98402555, 0.98333682,\n",
       "         0.98264858, 0.98196082, 0.98127355, 0.98058675, 0.97990043,\n",
       "         0.9792146 , 0.97852924, 0.97784437, 0.97715997, 0.97647605,\n",
       "         0.97579261, 0.97510965, 0.97442717, 0.97374516, 0.97306364,\n",
       "         0.97238258, 0.97170201, 0.97102191, 0.97034229, 0.96966314,\n",
       "         0.96898447, 0.96830628, 0.96762856, 0.96695131, 0.96627454,\n",
       "         0.96559824, 0.96492241, 0.96424706, 0.96357218, 0.96289777,\n",
       "         0.96222384, 0.96155037, 0.96087738, 0.96020486, 0.95953281,\n",
       "         0.95886123, 0.95819012, 0.95751948, 0.9568493 , 0.9561796 ,\n",
       "         0.95551037, 0.9548416 , 0.95417331, 0.95350548, 0.95283812,\n",
       "         0.95217122, 0.95150479, 0.95083883, 0.95017334, 0.94950831,\n",
       "         0.94884374, 0.94817964, 0.94751601, 0.94685284, 0.94619013,\n",
       "         0.94552789, 0.94486611, 0.9442048 , 0.94354394, 0.94288355,\n",
       "         0.94222363, 0.94156416, 0.94090516, 0.94024661, 0.93958853,\n",
       "         0.93893091, 0.93827375, 0.93761705, 0.93696081, 0.93630502,\n",
       "         0.9356497 , 0.93499484, 0.93434043, 0.93368648, 0.93303299]))}"
      ]
     },
     "execution_count": 6,
     "metadata": {},
     "output_type": "execute_result"
    }
   ],
   "source": [
    "curve_dict"
   ]
  },
  {
   "cell_type": "code",
   "execution_count": null,
   "metadata": {},
   "outputs": [],
   "source": []
  }
 ],
 "metadata": {
  "anaconda-cloud": {},
  "kernelspec": {
   "display_name": "Python [conda root]",
   "language": "python",
   "name": "conda-root-py"
  },
  "language_info": {
   "codemirror_mode": {
    "name": "ipython",
    "version": 3
   },
   "file_extension": ".py",
   "mimetype": "text/x-python",
   "name": "python",
   "nbconvert_exporter": "python",
   "pygments_lexer": "ipython3",
   "version": "3.6.6"
  }
 },
 "nbformat": 4,
 "nbformat_minor": 1
}
