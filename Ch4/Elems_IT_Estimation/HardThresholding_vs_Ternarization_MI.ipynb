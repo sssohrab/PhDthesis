{
 "cells": [
  {
   "cell_type": "code",
   "execution_count": 1,
   "metadata": {
    "scrolled": true
   },
   "outputs": [],
   "source": [
    "import numpy as np\n",
    "from sparse_ternary_networks.Tools import keep_k_largest_mags\n",
    "from sparse_ternary_networks.Tools import nlinearity\n",
    "%matplotlib inline\n",
    "import matplotlib.pyplot as plt\n",
    "####\n",
    "from ite.cost.x_factory import co_factory\n",
    "from ite.cost.x_analytical_values import analytical_value_i_shannon"
   ]
  },
  {
   "cell_type": "code",
   "execution_count": 2,
   "metadata": {
    "scrolled": true
   },
   "outputs": [],
   "source": [
    "N = 10000\n",
    "#Source = 'Gaussian'\n",
    "#Source = 'Uniform'\n",
    "Source = 'Laplacian'\n",
    "num_rep = 2\n",
    "#################################\n",
    "ds = np.array([1, 1])  # subspace dimensions: ds[0], ..., ds[M-1]\n",
    "cost_name = 'MIShannon_DKL'  # d_m >= 1, M >= 2\n",
    "# cost_name = 'MIShannon_HS'  # d_m >= 1, M >= 2\n",
    "co = co_factory(cost_name, mult=True)  # cost object"
   ]
  },
  {
   "cell_type": "code",
   "execution_count": 3,
   "metadata": {},
   "outputs": [],
   "source": [
    "if Source == 'Gaussian':\n",
    "    x = np.random.randn(N,1)\n",
    "    LmbdaList = np.linspace(0,3,50)\n",
    "elif Source == 'Uniform':\n",
    "    x = np.random.rand(N,1)\n",
    "    LmbdaList = np.linspace(0,0.5,10)\n",
    "elif Source == 'Laplacian':\n",
    "    x = np.random.laplace(size=(N,1))\n",
    "    LmbdaList = np.linspace(0,10,50)\n",
    "x -= np.mean(x)    "
   ]
  },
  {
   "cell_type": "code",
   "execution_count": null,
   "metadata": {
    "scrolled": true
   },
   "outputs": [
    {
     "name": "stdout",
     "output_type": "stream",
     "text": [
      " \n",
      "****************** repetition =  0\n",
      " .... lmbda =  0.0  .... lmbda =  0.20408163265306123  .... lmbda =  0.40816326530612246  .... lmbda =  0.6122448979591837  .... lmbda =  0.8163265306122449  .... lmbda =  1.0204081632653061  .... lmbda =  1.2244897959183674  .... lmbda =  1.4285714285714286  .... lmbda =  1.6326530612244898  .... lmbda =  1.836734693877551  .... lmbda =  2.0408163265306123  .... lmbda =  2.2448979591836737  .... lmbda =  2.4489795918367347  .... lmbda =  2.6530612244897958  .... lmbda =  2.857142857142857  .... lmbda =  3.0612244897959187  .... lmbda =  3.2653061224489797  .... lmbda =  3.4693877551020407  .... lmbda =  3.673469387755102  .... lmbda =  3.8775510204081636  .... lmbda =  4.081632653061225  .... lmbda =  4.285714285714286  .... lmbda =  4.4897959183673475  .... lmbda =  4.6938775510204085  .... lmbda =  4.8979591836734695  .... lmbda =  5.1020408163265305  .... lmbda =  5.3061224489795915  .... lmbda =  5.510204081632653  .... lmbda =  5.714285714285714  .... lmbda =  5.918367346938775  .... lmbda =  6.122448979591837  .... lmbda =  6.326530612244898  .... lmbda =  6.530612244897959  .... lmbda =  6.73469387755102  .... lmbda =  6.938775510204081  .... lmbda =  7.142857142857143  .... lmbda =  7.346938775510204  .... lmbda =  7.551020408163265  .... lmbda =  7.755102040816327  .... lmbda =  7.959183673469388  .... lmbda =  8.16326530612245  .... lmbda =  8.36734693877551  .... lmbda =  8.571428571428571  .... lmbda =  8.775510204081632  .... lmbda =  8.979591836734695  .... lmbda =  9.183673469387756  .... lmbda =  9.387755102040817  .... lmbda =  9.591836734693878  .... lmbda =  9.795918367346939  .... lmbda =  10.0  \n",
      "****************** repetition =  1\n",
      " .... lmbda =  0.0  .... lmbda =  0.20408163265306123  .... lmbda =  0.40816326530612246  .... lmbda =  0.6122448979591837  .... lmbda =  0.8163265306122449  .... lmbda =  1.0204081632653061  .... lmbda =  1.2244897959183674  .... lmbda =  1.4285714285714286  .... lmbda =  1.6326530612244898  .... lmbda =  1.836734693877551  .... lmbda =  2.0408163265306123  .... lmbda =  2.2448979591836737  .... lmbda =  2.4489795918367347  .... lmbda =  2.6530612244897958  .... lmbda =  2.857142857142857  .... lmbda =  3.0612244897959187  .... lmbda =  3.2653061224489797  .... lmbda =  3.4693877551020407  .... lmbda =  3.673469387755102  .... lmbda =  3.8775510204081636  .... lmbda =  4.081632653061225  .... lmbda =  4.285714285714286  .... lmbda =  4.4897959183673475  .... lmbda =  4.6938775510204085  .... lmbda =  4.8979591836734695  .... lmbda =  5.1020408163265305  .... lmbda =  5.3061224489795915  .... lmbda =  5.510204081632653  .... lmbda =  5.714285714285714  .... lmbda =  5.918367346938775 "
     ]
    }
   ],
   "source": [
    "MI_HTresh = np.zeros((num_rep,len(LmbdaList)))\n",
    "for rep in range(num_rep):\n",
    "    print(' \\n****************** repetition = ',rep)\n",
    "    for LmdaInd,Lmbda in enumerate(LmbdaList):\n",
    "        print(' .... lmbda = ',Lmbda,end=' ')\n",
    "        y = nlinearity(x, Lmbda, nlinStrategy='Threshold')\n",
    "        data = np.hstack((x ,y ))\n",
    "        MI_HTresh[rep,LmdaInd] =  co.estimation(data, ds)"
   ]
  },
  {
   "cell_type": "code",
   "execution_count": null,
   "metadata": {
    "scrolled": true
   },
   "outputs": [],
   "source": [
    "MI_Ternery = np.zeros((num_rep,len(LmbdaList)))\n",
    "for rep in range(num_rep):\n",
    "    print(' \\n****************** repetition = ',rep)\n",
    "    for LmdaInd,Lmbda in enumerate(LmbdaList):\n",
    "        print(' .... lmbda = ',Lmbda,end=' ')\n",
    "        y = nlinearity(x, Lmbda, nlinStrategy='Threshold_STC')\n",
    "        data = np.hstack((x ,y ))\n",
    "        MI_Ternery[rep,LmdaInd] =  co.estimation(data, ds)"
   ]
  },
  {
   "cell_type": "code",
   "execution_count": null,
   "metadata": {
    "scrolled": true
   },
   "outputs": [],
   "source": [
    "plt.plot(LmbdaList,np.mean(MI_HTresh,axis=0))\n",
    "plt.plot(LmbdaList,np.mean(MI_Ternery,axis=0))\n"
   ]
  },
  {
   "cell_type": "code",
   "execution_count": null,
   "metadata": {
    "scrolled": true
   },
   "outputs": [],
   "source": [
    "curve_dict = {}\n",
    "exec(\"curve_dict['\"+Source+\"_HThresholding_MI_lambda'] = (LmbdaList.reshape(-1,1),np.mean(MI_HTresh,axis=0).reshape(-1,1))\")\n",
    "exec(\"curve_dict['\"+Source+\"_Ternarizing_MI_lambda'] = (LmbdaList.reshape(-1,1),np.mean(MI_Ternery,axis=0).reshape(-1,1))\")"
   ]
  },
  {
   "cell_type": "code",
   "execution_count": null,
   "metadata": {},
   "outputs": [],
   "source": [
    "# Saving the results for PGFplott:\n",
    "PGF_path = '/home/sssohrab/Dropbox/Thesis/Thesis/Chapter6/Pics/PGF/dat/'\n",
    "ExpName = 'MIEstimation'\n",
    "#\n",
    "for curve_name, curve_xy in curve_dict.items():\n",
    "    fname = ExpName + '_' + curve_name + '.dat'\n",
    "    print(fname)\n",
    "    x = curve_xy[0].astype(float).reshape(-1)\n",
    "    y = curve_xy[1].astype(float).reshape(-1)\n",
    "    np.savetxt(PGF_path + fname, np.transpose([x,y]), fmt='%8f', delimiter='   ')"
   ]
  },
  {
   "cell_type": "code",
   "execution_count": null,
   "metadata": {},
   "outputs": [],
   "source": []
  }
 ],
 "metadata": {
  "kernelspec": {
   "display_name": "Python [conda root]",
   "language": "python",
   "name": "conda-root-py"
  },
  "language_info": {
   "codemirror_mode": {
    "name": "ipython",
    "version": 3
   },
   "file_extension": ".py",
   "mimetype": "text/x-python",
   "name": "python",
   "nbconvert_exporter": "python",
   "pygments_lexer": "ipython3",
   "version": "3.6.6"
  }
 },
 "nbformat": 4,
 "nbformat_minor": 2
}
