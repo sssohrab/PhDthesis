{
 "cells": [
  {
   "cell_type": "code",
   "execution_count": 1,
   "metadata": {},
   "outputs": [],
   "source": [
    "import ite"
   ]
  },
  {
   "cell_type": "code",
   "execution_count": null,
   "metadata": {},
   "outputs": [],
   "source": [
    "\"\"\" Demo for (Shannon) mutual information estimators.\n",
    "\n",
    "Analytical vs estimated value is illustrated for normal random variables.\n",
    "\n",
    "\"\"\""
   ]
  },
  {
   "cell_type": "code",
   "execution_count": 2,
   "metadata": {},
   "outputs": [],
   "source": [
    "from numpy.random import rand, multivariate_normal\n",
    "from numpy import array, arange, zeros, dot, ones, sum\n",
    "import matplotlib.pyplot as plt\n",
    "\n",
    "from ite.cost.x_factory import co_factory\n",
    "from ite.cost.x_analytical_values import analytical_value_i_shannon"
   ]
  },
  {
   "cell_type": "code",
   "execution_count": 7,
   "metadata": {},
   "outputs": [
    {
     "name": "stdout",
     "output_type": "stream",
     "text": [
      "tk=1/20\n",
      "tk=2/20\n",
      "tk=3/20\n",
      "tk=4/20\n",
      "tk=5/20\n",
      "tk=6/20\n",
      "tk=7/20\n",
      "tk=8/20\n",
      "tk=9/20\n",
      "tk=10/20\n",
      "tk=11/20\n",
      "tk=12/20\n",
      "tk=13/20\n",
      "tk=14/20\n",
      "tk=15/20\n",
      "tk=16/20\n",
      "tk=17/20\n",
      "tk=18/20\n",
      "tk=19/20\n",
      "tk=20/20\n"
     ]
    },
    {
     "data": {
      "image/png": "[encoded data removed]",
      "text/plain": [
       "<Figure size 432x288 with 1 Axes>"
      ]
     },
     "metadata": {
      "needs_background": "light"
     },
     "output_type": "display_data"
    }
   ],
   "source": [
    "# parameters:\n",
    "ds = array([1, 1])  # subspace dimensions: ds[0], ..., ds[M-1]\n",
    "num_of_samples_v = arange(1000, 20 * 1000 + 1, 1000)\n",
    "\n",
    "cost_name = 'MIShannon_DKL'  # d_m >= 1, M >= 2\n",
    "# cost_name = 'MIShannon_HS'  # d_m >= 1, M >= 2\n",
    "\n",
    "# initialization:\n",
    "distr = 'normal'  # distribution; fixed    \n",
    "num_of_samples_max = num_of_samples_v[-1]\n",
    "length = len(num_of_samples_v)\n",
    "co = co_factory(cost_name, mult=True)  # cost object\n",
    "# vector of estimated mutual information values:\n",
    "i_hat_v = zeros(length)\n",
    "\n",
    "# distr, ds -> samples (y), distribution parameters (par), analytical \n",
    "# value (i):\n",
    "if distr == 'normal':\n",
    "    dim = sum(ds)  # dimension of the joint distribution\n",
    "\n",
    "    # mean (m), covariance matrix (c):\n",
    "    m = rand(dim)\n",
    "    l = rand(dim, dim)\n",
    "    c = dot(l, l.T)\n",
    "\n",
    "    # generate samples (y~N(m,c)): \n",
    "    y = multivariate_normal(m, c, num_of_samples_max)\n",
    "\n",
    "    par = {\"ds\": ds, \"cov\": c}\n",
    "else:\n",
    "    raise Exception('Distribution=?')\n",
    "\n",
    "i = analytical_value_i_shannon(distr, par)\n",
    "\n",
    "# estimation:\n",
    "for (tk, num_of_samples) in enumerate(num_of_samples_v):\n",
    "    i_hat_v[tk] = co.estimation(y[0:num_of_samples], ds)  # broadcast\n",
    "    print(\"tk={0}/{1}\".format(tk + 1, length))\n",
    "\n",
    "# plot:    \n",
    "plt.plot(num_of_samples_v, i_hat_v, num_of_samples_v, ones(length) * i)\n",
    "plt.xlabel('Number of samples')\n",
    "plt.ylabel('Shannon mutual information')\n",
    "plt.legend(('estimation', 'analytical value'), loc='best')\n",
    "plt.title(\"Estimator: \" + cost_name)\n",
    "plt.show()"
   ]
  },
  {
   "cell_type": "code",
   "execution_count": 57,
   "metadata": {},
   "outputs": [
    {
     "data": {
      "text/plain": [
       "9.48964208701313"
      ]
     },
     "execution_count": 57,
     "metadata": {},
     "output_type": "execute_result"
    }
   ],
   "source": [
    "co.estimation(data, ds)"
   ]
  },
  {
   "cell_type": "code",
   "execution_count": 45,
   "metadata": {},
   "outputs": [
    {
     "data": {
      "text/plain": [
       "1.4189385332046727"
      ]
     },
     "execution_count": 45,
     "metadata": {},
     "output_type": "execute_result"
    }
   ],
   "source": [
    "0.5*np.log(2*np.pi*np.exp(1))"
   ]
  },
  {
   "cell_type": "code",
   "execution_count": 39,
   "metadata": {},
   "outputs": [
    {
     "data": {
      "text/plain": [
       "0.34657359027997264"
      ]
     },
     "execution_count": 39,
     "metadata": {},
     "output_type": "execute_result"
    }
   ],
   "source": [
    "np.log(2)/2"
   ]
  },
  {
   "cell_type": "code",
   "execution_count": 51,
   "metadata": {},
   "outputs": [],
   "source": [
    "x = np.random.randn(100000,1)\n",
    "z = np.random.randn(100000,1)\n",
    "y = x + z\n",
    "data = np.hstack((x ,x ))"
   ]
  },
  {
   "cell_type": "code",
   "execution_count": 27,
   "metadata": {},
   "outputs": [],
   "source": [
    "x = np.hstack((np.ones((10000,1)) ,np.ones((10000,1))  ))"
   ]
  },
  {
   "cell_type": "code",
   "execution_count": 46,
   "metadata": {},
   "outputs": [
    {
     "data": {
      "text/plain": [
       "1.0051841169386437"
      ]
     },
     "execution_count": 46,
     "metadata": {},
     "output_type": "execute_result"
    }
   ],
   "source": [
    "np.var(x)"
   ]
  },
  {
   "cell_type": "code",
   "execution_count": null,
   "metadata": {},
   "outputs": [],
   "source": []
  }
 ],
 "metadata": {
  "kernelspec": {
   "display_name": "Python [conda root]",
   "language": "python",
   "name": "conda-root-py"
  },
  "language_info": {
   "codemirror_mode": {
    "name": "ipython",
    "version": 3
   },
   "file_extension": ".py",
   "mimetype": "text/x-python",
   "name": "python",
   "nbconvert_exporter": "python",
   "pygments_lexer": "ipython3",
   "version": "3.6.6"
  }
 },
 "nbformat": 4,
 "nbformat_minor": 2
}
