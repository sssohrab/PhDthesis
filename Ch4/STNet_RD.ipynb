{
 "cells": [
  {
   "cell_type": "code",
   "execution_count": 1,
   "metadata": {},
   "outputs": [],
   "source": [
    "# First importing the required packages:\n",
    "%matplotlib inline\n",
    "import sparse_ternary_networks.Tools as T\n",
    "import sparse_ternary_networks.loadLab as load\n",
    "import numpy as np\n",
    "import sparse_ternary_networks.MLSTC as MLSTC\n",
    "from scipy.linalg import eigh\n",
    "from scipy.linalg import toeplitz\n",
    "import matplotlib.pyplot as plt\n",
    "##\n",
    "import torch\n",
    "from torch import nn\n",
    "from torch.autograd import Variable\n",
    "import sparse_ternary_networks.PyTorcher_MLSTC as STNetTorcher\n",
    "# from RRQ.Tools import data_generator"
   ]
  },
  {
   "cell_type": "code",
   "execution_count": 2,
   "metadata": {},
   "outputs": [],
   "source": [
    "# Initializing the parameters:\n",
    "n = 512      # dimension\n",
    "m = 512       # dimension of the codes\n",
    "N_train = 10000     # number of samples for train set.\n",
    "N_test = 10000\n",
    "k = 2         # number of non-zero elements of the STC at each stage.\n",
    "L = 2        # number of layer units of the network.\n",
    "Rho = 0.9     # the coefficient of the AR(1) source."
   ]
  },
  {
   "cell_type": "code",
   "execution_count": 3,
   "metadata": {},
   "outputs": [],
   "source": [
    "# The covariance matrix of the AR(1) process with its toeplitz structure:\n",
    "# cov_mat = toeplitz(Rho**np.arange(n))\n",
    "# # Generating the train and test sets:\n",
    "# F0_train = np.linalg.cholesky(cov_mat) @ np.random.randn(n,N_train)\n",
    "# F0_test = np.linalg.cholesky(cov_mat) @ np.random.randn(n,N_test)\n",
    "# # Normalization (scalar):\n",
    "# # F0_train -= np.mean(F0_train)\n",
    "# # F0_train /= np.std(F0_train)\n",
    "# # #\n",
    "# # F0_test -= np.mean(F0_test)\n",
    "# # F0_test /= np.std(F0_test)"
   ]
  },
  {
   "cell_type": "code",
   "execution_count": 4,
   "metadata": {},
   "outputs": [],
   "source": [
    "# MNIST loading, normalization and pre-processing:\n",
    "data = np.load('Data/mnist.npz')\n",
    "imgs_train = np.divide(data['imgs_train'],255).astype(float)\n",
    "imgs_test = np.divide(data['imgs_test'],255).astype(float)\n",
    "Y_train = data['Y_train']\n",
    "Y_test = data['Y_test']\n",
    "# Normalization:\n",
    "imgs_train -= np.mean(imgs_train)\n",
    "imgs_test -= np.mean(imgs_test)\n",
    "#\n",
    "imgs_train /= np.std(imgs_train)\n",
    "imgs_test /= np.std(imgs_test)\n",
    "nchannel = 1\n",
    "imgs_resolution = (28,28,nchannel)\n",
    "#\n",
    "####################################################################################\n",
    "# DCT:\n",
    "F0_train = load.imgTensor2matrix_zigzagDCT(imgs_train,nchannel)\n",
    "F0_test = load.imgTensor2matrix_zigzagDCT(imgs_test,nchannel)"
   ]
  },
  {
   "cell_type": "code",
   "execution_count": 5,
   "metadata": {},
   "outputs": [
    {
     "name": "stdout",
     "output_type": "stream",
     "text": [
      " ################## Starting to learn network parameters:  ##################\n",
      "layer-units:\n",
      "** 1 **** 2 **\n",
      "Finished learning network parameters:\n"
     ]
    }
   ],
   "source": [
    "# Pre-train the network with ML-STC:\n",
    "#Learner = 'Random'\n",
    "Learner = 'SuccessivePCA'\n",
    "# Learner = 'ProcrusteanPCA'\n",
    "obj_pre_train = MLSTC.BaseLearner(k,L,m=m,Learner=Learner)\n",
    "_,_,_ = obj_pre_train.run(F0_train)"
   ]
  },
  {
   "cell_type": "code",
   "execution_count": 6,
   "metadata": {},
   "outputs": [
    {
     "name": "stdout",
     "output_type": "stream",
     "text": [
      " Running the network:\n",
      " ##################  Running the network:  ##################\n",
      "layer-units:\n",
      "** 1 **** 2 **\n",
      "Finished running the network.\n"
     ]
    }
   ],
   "source": [
    "# Testing the pre-trained network:\n",
    "obj_pre_test = MLSTC.fwdPass(obj_pre_train.params,k,ternaryProbMap=obj_pre_train.prob_z)\n",
    "_,_,_ = obj_pre_test.run(F0_test)"
   ]
  },
  {
   "cell_type": "code",
   "execution_count": 7,
   "metadata": {},
   "outputs": [
    {
     "name": "stdout",
     "output_type": "stream",
     "text": [
      "[0.         0.0096005  0.02170716]\n",
      "[1.         0.48952824 0.38809186]\n"
     ]
    },
    {
     "data": {
      "image/png": "[encoded data removed]",
      "text/plain": [
       "<Figure size 432x288 with 1 Axes>"
      ]
     },
     "metadata": {
      "needs_background": "light"
     },
     "output_type": "display_data"
    }
   ],
   "source": [
    "# Checking the pre-trained net.\n",
    "plt.plot(obj_pre_train.rate,obj_pre_train.distortion)\n",
    "plt.plot(obj_pre_test.rate,obj_pre_test.distortion)\n",
    "plt.grid()\n",
    "print(obj_pre_test.rate)\n",
    "print(obj_pre_test.distortion)"
   ]
  },
  {
   "cell_type": "code",
   "execution_count": 8,
   "metadata": {},
   "outputs": [],
   "source": [
    "# Torch hyper-params:\n",
    "dtype = torch.FloatTensor\n",
    "num_epoch = 4   \n",
    "learning_rate = 1e-3  \n",
    "num_batch = 1000\n",
    "params = obj_pre_train.params\n",
    "weight_decay = 0"
   ]
  },
  {
   "cell_type": "code",
   "execution_count": 9,
   "metadata": {},
   "outputs": [
    {
     "name": "stderr",
     "output_type": "stream",
     "text": [
      "/home/sssohrab/anaconda3/lib/python3.6/site-packages/ipykernel/__main__.py:19: UserWarning: invalid index of a 0-dim tensor. This will be an error in PyTorch 0.5. Use tensor.item() to convert a 0-dim tensor to a Python number\n"
     ]
    },
    {
     "name": "stdout",
     "output_type": "stream",
     "text": [
      "Epoch:  1 | train loss: 0.2967\n",
      "Epoch:  1 | train loss: 0.3586\n",
      "Epoch:  1 | train loss: 0.3261\n",
      "Epoch:  1 | train loss: 0.3360\n",
      "Epoch:  1 | train loss: 0.3185\n",
      "Epoch:  1 | train loss: 0.3541\n",
      "Epoch:  1 | train loss: 0.3503\n",
      "Epoch:  1 | train loss: 0.3604\n",
      "Epoch:  1 | train loss: 0.4256\n",
      "Epoch:  1 | train loss: 0.2845\n",
      "Epoch:  1 | train loss: 0.3350\n",
      "Epoch:  1 | train loss: 0.3554\n",
      "Epoch:  1 | train loss: 0.3528\n",
      "Epoch:  1 | train loss: 0.3057\n",
      "Epoch:  1 | train loss: 0.3088\n",
      "Epoch:  1 | train loss: 0.3015\n",
      "Epoch:  1 | train loss: 0.3612\n",
      "Epoch:  1 | train loss: 0.2834\n",
      "Epoch:  1 | train loss: 0.2928\n",
      "Epoch:  1 | train loss: 0.2827\n",
      "Epoch:  2 | train loss: 0.3384\n",
      "Epoch:  2 | train loss: 0.2728\n",
      "Epoch:  2 | train loss: 0.2816\n",
      "Epoch:  2 | train loss: 0.3450\n",
      "Epoch:  2 | train loss: 0.2864\n",
      "Epoch:  2 | train loss: 0.2091\n",
      "Epoch:  2 | train loss: 0.3291\n",
      "Epoch:  2 | train loss: 0.3275\n",
      "Epoch:  2 | train loss: 0.3592\n",
      "Epoch:  2 | train loss: 0.3160\n",
      "Epoch:  2 | train loss: 0.2492\n",
      "Epoch:  2 | train loss: 0.2861\n",
      "Epoch:  2 | train loss: 0.2934\n",
      "Epoch:  2 | train loss: 0.2818\n",
      "Epoch:  2 | train loss: 0.2770\n",
      "Epoch:  2 | train loss: 0.2831\n",
      "Epoch:  2 | train loss: 0.2918\n",
      "Epoch:  2 | train loss: 0.3200\n",
      "Epoch:  2 | train loss: 0.2603\n",
      "Epoch:  2 | train loss: 0.3112\n",
      "Epoch:  3 | train loss: 0.2984\n",
      "Epoch:  3 | train loss: 0.2167\n",
      "Epoch:  3 | train loss: 0.2965\n",
      "Epoch:  3 | train loss: 0.3198\n",
      "Epoch:  3 | train loss: 0.3199\n",
      "Epoch:  3 | train loss: 0.2529\n",
      "Epoch:  3 | train loss: 0.2540\n",
      "Epoch:  3 | train loss: 0.2784\n",
      "Epoch:  3 | train loss: 0.2395\n",
      "Epoch:  3 | train loss: 0.2302\n",
      "Epoch:  3 | train loss: 0.2917\n",
      "Epoch:  3 | train loss: 0.2518\n",
      "Epoch:  3 | train loss: 0.2667\n",
      "Epoch:  3 | train loss: 0.2571\n",
      "Epoch:  3 | train loss: 0.2841\n",
      "Epoch:  3 | train loss: 0.2331\n",
      "Epoch:  3 | train loss: 0.2338\n",
      "Epoch:  3 | train loss: 0.3121\n",
      "Epoch:  3 | train loss: 0.3146\n",
      "Epoch:  3 | train loss: 0.2951\n",
      "Epoch:  4 | train loss: 0.2247\n",
      "Epoch:  4 | train loss: 0.2844\n",
      "Epoch:  4 | train loss: 0.2770\n",
      "Epoch:  4 | train loss: 0.2612\n",
      "Epoch:  4 | train loss: 0.2350\n",
      "Epoch:  4 | train loss: 0.2185\n",
      "Epoch:  4 | train loss: 0.2586\n",
      "Epoch:  4 | train loss: 0.2783\n",
      "Epoch:  4 | train loss: 0.2396\n",
      "Epoch:  4 | train loss: 0.2787\n",
      "Epoch:  4 | train loss: 0.2574\n",
      "Epoch:  4 | train loss: 0.3311\n",
      "Epoch:  4 | train loss: 0.2238\n",
      "Epoch:  4 | train loss: 0.2153\n",
      "Epoch:  4 | train loss: 0.2936\n",
      "Epoch:  4 | train loss: 0.2565\n",
      "Epoch:  4 | train loss: 0.2760\n",
      "Epoch:  4 | train loss: 0.2965\n",
      "Epoch:  4 | train loss: 0.2937\n",
      "Epoch:  4 | train loss: 0.2818\n"
     ]
    }
   ],
   "source": [
    "# # Fine-tuning the compression model with back-propagation\n",
    "obj_bp_train = STNetTorcher.fwdPass(params,k,nlinStrategy='KBest',beta_shape='scalar')\n",
    "optimizer = torch.optim.Adam(obj_bp_train.parameters(), lr=learning_rate, weight_decay= weight_decay)\n",
    "# ################################\n",
    "F_torch = Variable(torch.from_numpy(np.copy(F0_train)).type(dtype))\n",
    "counter = 0\n",
    "for epoch in range(num_epoch):\n",
    "    rand_perm = np.random.permutation(N_train)\n",
    "    batch_map = []\n",
    "    for iter in range(num_batch):\n",
    "         batch_map.append(rand_perm[np.arange(iter*int(N_train/num_batch),(iter + 1)*int(N_train/num_batch) )])\n",
    "    for iter in range(num_batch):        # gives batch data\n",
    "        batch_map_current = batch_map[iter]\n",
    "        F_minibatch = F_torch[:,batch_map_current]\n",
    "        F_chapeau = obj_bp_train.forward(F_minibatch)\n",
    "\n",
    "        loss = (F_minibatch - F_chapeau).pow(2).mean()\n",
    "        if iter % 50 == 0:\n",
    "            print('Epoch: ', epoch + 1, '| train loss: %.4f' % loss.data[0])\n",
    "        # Zero gradients, perform a backward pass, and update the weights.\n",
    "        optimizer.zero_grad()\n",
    "        loss.backward()\n",
    "        optimizer.step()\n",
    "        counter += 1"
   ]
  },
  {
   "cell_type": "code",
   "execution_count": 10,
   "metadata": {},
   "outputs": [],
   "source": [
    "for l in range(L):\n",
    "    obj_bp_train.params[l]['A'] /= np.linalg.norm(obj_bp_train.params[l]['A'],axis=1).reshape(-1,1)"
   ]
  },
  {
   "cell_type": "code",
   "execution_count": 11,
   "metadata": {},
   "outputs": [
    {
     "name": "stdout",
     "output_type": "stream",
     "text": [
      " Running the network:\n",
      " ##################  Running the network:  ##################\n",
      "layer-units:\n",
      "** 1 **** 2 **\n",
      "Finished running the network.\n"
     ]
    }
   ],
   "source": [
    "# Running the fine-tuned compression network on the test set\n",
    "obj_bp_test = MLSTC.fwdPass(obj_bp_train.params,k)  \n",
    "_ = obj_bp_test.run(F0_test)"
   ]
  },
  {
   "cell_type": "code",
   "execution_count": 12,
   "metadata": {},
   "outputs": [
    {
     "name": "stdout",
     "output_type": "stream",
     "text": [
      "[1.         0.48952824 0.38809186]\n",
      "[1.         0.66774007 0.63965058]\n",
      "[0.         0.0096005  0.02170716]\n",
      "[0.         0.01273567 0.02762948]\n"
     ]
    },
    {
     "data": {
      "text/plain": [
       "[<matplotlib.lines.Line2D at 0x7f4424f27668>]"
      ]
     },
     "execution_count": 12,
     "metadata": {},
     "output_type": "execute_result"
    },
    {
     "data": {
      "image/png": "[encoded data removed]",
      "text/plain": [
       "<Figure size 432x288 with 1 Axes>"
      ]
     },
     "metadata": {
      "needs_background": "light"
     },
     "output_type": "display_data"
    }
   ],
   "source": [
    "# Checking the distortion:\n",
    "print(obj_pre_test.distortion)\n",
    "print(obj_bp_test.distortion)\n",
    "## \n",
    "print(obj_pre_test.rate)\n",
    "print(obj_bp_test.rate)\n",
    "#\n",
    "plt.plot(obj_pre_test.rate,obj_pre_test.distortion)\n",
    "plt.plot(obj_bp_test.rate,obj_bp_test.distortion)"
   ]
  },
  {
   "cell_type": "code",
   "execution_count": 13,
   "metadata": {},
   "outputs": [
    {
     "name": "stdout",
     "output_type": "stream",
     "text": [
      " ################## Starting to learn network parameters:  ##################\n",
      "layer-units:\n",
      "** 1 **** 2 **\n",
      "Finished learning network parameters:\n",
      " Running the network:\n",
      " ##################  Running the network:  ##################\n",
      "layer-units:\n",
      "** 1 **** 2 **\n",
      "Finished running the network.\n"
     ]
    }
   ],
   "source": [
    "# Re-adjusting beta:\n",
    "obj_beta_train = MLSTC.BaseLearner(k, L,m=m,Learner='SuccessivePCA')\n",
    "obj_beta_train.reRun_reweightUpdate(F0_train,obj_bp_train.params)\n",
    "# Re-running on the final network:\n",
    "obj_beta_test = MLSTC.fwdPass(obj_beta_train.params,k)  \n",
    "_ = obj_beta_test.run(F0_test)"
   ]
  },
  {
   "cell_type": "code",
   "execution_count": 14,
   "metadata": {},
   "outputs": [
    {
     "name": "stdout",
     "output_type": "stream",
     "text": [
      "[1.         0.48952824 0.38809186]\n",
      "[1.         0.44087973 0.32493103]\n",
      "[0.         0.0096005  0.02170716]\n",
      "[0.         0.01273856 0.02822051]\n"
     ]
    },
    {
     "data": {
      "text/plain": [
       "[<matplotlib.lines.Line2D at 0x7f4424ab5a20>]"
      ]
     },
     "execution_count": 14,
     "metadata": {},
     "output_type": "execute_result"
    },
    {
     "data": {
      "image/png": "[encoded data removed]",
      "text/plain": [
       "<Figure size 432x288 with 1 Axes>"
      ]
     },
     "metadata": {
      "needs_background": "light"
     },
     "output_type": "display_data"
    }
   ],
   "source": [
    "# Checking the distortion:\n",
    "\n",
    "print(obj_pre_test.distortion)\n",
    "print(obj_beta_test.distortion)\n",
    "#\n",
    "print(obj_pre_test.rate)\n",
    "print(obj_beta_test.rate)\n",
    "#\n",
    "plt.semilogy(obj_pre_test.rate,obj_pre_test.distortion)\n",
    "plt.semilogy(obj_beta_test.rate,obj_beta_test.distortion)"
   ]
  },
  {
   "cell_type": "code",
   "execution_count": 15,
   "metadata": {},
   "outputs": [
    {
     "data": {
      "text/plain": [
       "array([[10.00132575,  9.54012311,  9.40415676,  9.39336437,  9.43795213,\n",
       "         9.03990066,  9.02524561,  9.23480648,  9.05912796,  8.92805082,\n",
       "         8.88267442,  8.82012412,  8.72661899,  9.30134598,  8.70578717,\n",
       "         8.8123073 ,  8.89159477,  8.55436753,  8.619076  ,  9.27328095,\n",
       "         8.77415501,  9.02042416,  8.91052319,  9.09635461,  8.8010356 ,\n",
       "         9.0143566 ,  9.05117363,  8.82315634,  8.48975659,  8.57136572,\n",
       "         8.42236658,  8.93332473,  8.47166896,  8.44896976,  8.46546488,\n",
       "         7.9807092 ,  7.92700312,  8.27266984,  7.96844906,  8.32581966,\n",
       "         7.96668172,  8.12388351,  8.38227226,  7.86197345,  7.98289325,\n",
       "         7.84781731,  7.96813848,  7.89206631,  7.92505458,  7.93188852,\n",
       "         7.9150042 ,  7.81364664,  7.82792745,  7.79124011,  7.77465244]])"
      ]
     },
     "execution_count": 15,
     "metadata": {},
     "output_type": "execute_result"
    }
   ],
   "source": [
    "obj_pre_train.params[0]['beta'].T"
   ]
  },
  {
   "cell_type": "code",
   "execution_count": 16,
   "metadata": {},
   "outputs": [
    {
     "data": {
      "text/plain": [
       "55"
      ]
     },
     "execution_count": 16,
     "metadata": {},
     "output_type": "execute_result"
    }
   ],
   "source": [
    "obj_pre_train.params[0]['beta'].size"
   ]
  },
  {
   "cell_type": "code",
   "execution_count": null,
   "metadata": {},
   "outputs": [],
   "source": []
  }
 ],
 "metadata": {
  "anaconda-cloud": {},
  "kernelspec": {
   "display_name": "Python [conda root]",
   "language": "python",
   "name": "conda-root-py"
  },
  "language_info": {
   "codemirror_mode": {
    "name": "ipython",
    "version": 3
   },
   "file_extension": ".py",
   "mimetype": "text/x-python",
   "name": "python",
   "nbconvert_exporter": "python",
   "pygments_lexer": "ipython3",
   "version": "3.6.6"
  }
 },
 "nbformat": 4,
 "nbformat_minor": 1
}
