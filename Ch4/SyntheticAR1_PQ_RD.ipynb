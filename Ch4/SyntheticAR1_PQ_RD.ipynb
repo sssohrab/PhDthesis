{
 "cells": [
  {
   "cell_type": "code",
   "execution_count": 1,
   "metadata": {
    "nbpresent": {
     "id": "c6ce7716-f300-4392-9a8a-5b236c3c1075"
    }
   },
   "outputs": [],
   "source": [
    "from RRQ.faiss_interface import PQ as myPQ\n",
    "from RRQ.faiss_interface import OPQ as myOPQ\n",
    "import numpy as np\n",
    "import RRQ.Tools as Tools\n",
    "##########################\n",
    "import matplotlib.pyplot as plt\n",
    "%matplotlib inline\n",
    "from scipy.linalg import toeplitz"
   ]
  },
  {
   "cell_type": "code",
   "execution_count": 2,
   "metadata": {
    "nbpresent": {
     "id": "af9c14e2-51b4-4cbd-95f3-fe74ef6993cc"
    }
   },
   "outputs": [],
   "source": [
    "N_test = 10000\n",
    "N_train = 10000\n",
    "n = 512\n",
    "numRep = 1\n"
   ]
  },
  {
   "cell_type": "code",
   "execution_count": 3,
   "metadata": {
    "nbpresent": {
     "id": "c07e0c0b-cf4f-4f3a-a0d4-ea2d269c3440"
    }
   },
   "outputs": [],
   "source": [
    "RhoList = [0,0.5,0.99]\n",
    "#RhoList = [0.99]\n",
    "MethodList = ['PQ']\n",
    "mList = [256]\n",
    "#pList = [1,2,4,5,10,20,25,50,100,200,250,500]\n",
    "pList = [1,2,4,8,16,32,64,128,256]\n",
    "for RhoInd,Rho in enumerate(RhoList):\n",
    "    for Method in MethodList:\n",
    "        for m in mList:\n",
    "            exec('dist_' + Method + '_Rho' + str(int(Rho*100)) + '_m' + str(m) + '_train = np.zeros((numRep,len(pList)+1))')\n",
    "            exec('dist_' + Method + '_Rho' + str(int(Rho*100)) + '_m' + str(m) + '_train[:,0] = 1')\n",
    "            exec('dist_' + Method + '_Rho' + str(int(Rho*100)) + '_m' + str(m) + '_test = np.zeros((numRep,len(pList)+1))')\n",
    "            exec('dist_' + Method + '_Rho' + str(int(Rho*100)) + '_m' + str(m) + '_test[:,0] = 1')\n",
    "            #\n",
    "            exec('rate_' + Method + '_Rho' + str(int(Rho*100)) + '_m' + str(m) + ' = np.zeros((numRep,len(pList)+1))')"
   ]
  },
  {
   "cell_type": "code",
   "execution_count": 4,
   "metadata": {
    "nbpresent": {
     "id": "0710130f-9c70-411b-a3d4-526d041e5567"
    }
   },
   "outputs": [
    {
     "name": "stdout",
     "output_type": "stream",
     "text": [
      ".......................................  Repetition =  1\n",
      "....................  Rho =  0\n",
      " ############   PQ     A L G O R I T H M   ################\n",
      " ..... m =  256   .........\n",
      " ..... p =  1   .........\n",
      " ..... p =  2   .........\n",
      " ..... p =  4   .........\n",
      " ..... p =  8   .........\n",
      " ..... p =  16   .........\n",
      " ..... p =  32   .........\n",
      " ..... p =  64   .........\n",
      " ..... p =  128   .........\n",
      " ..... p =  256   .........\n",
      "....................  Rho =  0.5\n",
      " ############   PQ     A L G O R I T H M   ################\n",
      " ..... m =  256   .........\n",
      " ..... p =  1   .........\n",
      " ..... p =  2   .........\n",
      " ..... p =  4   .........\n",
      " ..... p =  8   .........\n",
      " ..... p =  16   .........\n",
      " ..... p =  32   .........\n",
      " ..... p =  64   .........\n",
      " ..... p =  128   .........\n",
      " ..... p =  256   .........\n",
      "....................  Rho =  0.99\n",
      " ############   PQ     A L G O R I T H M   ################\n",
      " ..... m =  256   .........\n",
      " ..... p =  1   .........\n",
      " ..... p =  2   .........\n",
      " ..... p =  4   .........\n",
      " ..... p =  8   .........\n",
      " ..... p =  16   .........\n",
      " ..... p =  32   .........\n",
      " ..... p =  64   .........\n",
      " ..... p =  128   .........\n",
      " ..... p =  256   .........\n"
     ]
    }
   ],
   "source": [
    "for RepInd in range(numRep):\n",
    "    print('.......................................  Repetition = ',RepInd + 1)\n",
    "    for RhoInd,Rho in enumerate(RhoList):\n",
    "        print('....................  Rho = ',Rho)\n",
    "        F_train,F_test = Tools.data_generator(n,N_train,N_test,'AR1',SourceParam=Rho)\n",
    "        norm_train = np.divide(np.linalg.norm(F_train) ** 2, np.prod(F_train.shape))\n",
    "        norm_test = np.divide(np.linalg.norm(F_test) ** 2, np.prod(F_test.shape))\n",
    "        for MethodInd,Method in enumerate(MethodList):\n",
    "            print(' ############   ' + Method + '     A L G O R I T H M   ################')\n",
    "            for m in mList:\n",
    "                print(' ..... m = ',m, '  .........')\n",
    "                for pInd,p in enumerate(pList):\n",
    "                    print(' ..... p = ',p, '  .........')\n",
    "                    if Method == 'PQ':\n",
    "                        obj = myPQ(n,m,p)\n",
    "                    elif Method == 'OPQ':\n",
    "                        obj = myOPQ(n,m,p)\n",
    "                    # training:\n",
    "                    obj.train(F_train)\n",
    "                    _,_ = obj.run(F_train)\n",
    "                    exec('dist_' + Method + '_Rho' + str(int(Rho*100)) + '_m' + str(m) + '_train[RepInd,pInd+1] = obj.distortion/norm_train')\n",
    "                    exec('rate_' + Method + '_Rho' + str(int(Rho*100)) + '_m' + str(m) +       '[RepInd,pInd+1] = obj.rate')\n",
    "                    # testing:\n",
    "                    _,_ = obj.run(F_test)\n",
    "                    exec('dist_' + Method + '_Rho' + str(int(Rho*100)) + '_m' + str(m) + '_test[RepInd,pInd+1] = obj.distortion/norm_test')\n",
    "       "
   ]
  },
  {
   "cell_type": "code",
   "execution_count": 5,
   "metadata": {},
   "outputs": [],
   "source": [
    "# plt.plot(np.mean(rate_OPQ_Rho0_m256,axis=0).reshape(-1,1),np.mean(dist_OPQ_Rho0_m256_train,axis=0).reshape(-1,1))\n",
    "# plt.plot(np.mean(rate_OPQ_Rho0_m256,axis=0).reshape(-1,1),np.mean(dist_OPQ_Rho0_m256_test,axis=0).reshape(-1,1))\n",
    "# plt.grid()"
   ]
  },
  {
   "cell_type": "code",
   "execution_count": 6,
   "metadata": {},
   "outputs": [],
   "source": [
    "curve_dict = {}\n",
    "for RhoInd,Rho in enumerate(RhoList):\n",
    "    for Method in MethodList:\n",
    "        for m in mList:\n",
    "            exec('x = np.mean(rate_' + Method + '_Rho' + str(int(Rho*100)) + '_m' + str(m) + ',axis=0)')\n",
    "            exec('y = np.mean(dist_' + Method + '_Rho' + str(int(Rho*100)) + '_m' + str(m) + '_train,axis=0)')\n",
    "            exec(\"curve_dict['Rho\" + str(int(Rho*100))+ '_n' + str(n) + '_m' + str(m) +\"_DR_\"+ Method + \"_train'] = (x,y)\")\n",
    "            exec('y = np.mean(dist_' + Method + '_Rho' + str(int(Rho*100)) + '_m' + str(m) + '_test,axis=0)')\n",
    "            exec(\"curve_dict['Rho\" + str(int(Rho*100))+ '_n' + str(n)+ '_m' + str(m) +\"_DR_\"+ Method + \"_test'] = (x,y)\") "
   ]
  },
  {
   "cell_type": "code",
   "execution_count": 7,
   "metadata": {},
   "outputs": [
    {
     "name": "stdout",
     "output_type": "stream",
     "text": [
      "SyntheticAR1_VQ_Rho0_n512_m256_DR_PQ_train.dat\n",
      "SyntheticAR1_VQ_Rho0_n512_m256_DR_PQ_test.dat\n",
      "SyntheticAR1_VQ_Rho50_n512_m256_DR_PQ_train.dat\n",
      "SyntheticAR1_VQ_Rho50_n512_m256_DR_PQ_test.dat\n",
      "SyntheticAR1_VQ_Rho99_n512_m256_DR_PQ_train.dat\n",
      "SyntheticAR1_VQ_Rho99_n512_m256_DR_PQ_test.dat\n"
     ]
    }
   ],
   "source": [
    "# Saving the results for PGFplott:\n",
    "PGF_path = 'PGF/dat/'\n",
    "ExpName = 'SyntheticAR1_VQ'\n",
    "#\n",
    "for curve_name, curve_xy in curve_dict.items():\n",
    "    fname = ExpName + '_' + curve_name + '.dat'\n",
    "    print(fname)\n",
    "    x = curve_xy[0].astype(float).reshape(-1)\n",
    "    y = curve_xy[1].astype(float).reshape(-1)\n",
    "    np.savetxt(PGF_path + fname, np.transpose([x,y]), fmt='%8f', delimiter='   ')"
   ]
  },
  {
   "cell_type": "code",
   "execution_count": null,
   "metadata": {},
   "outputs": [],
   "source": []
  }
 ],
 "metadata": {
  "kernelspec": {
   "display_name": "Python [conda root]",
   "language": "python",
   "name": "conda-root-py"
  },
  "language_info": {
   "codemirror_mode": {
    "name": "ipython",
    "version": 3
   },
   "file_extension": ".py",
   "mimetype": "text/x-python",
   "name": "python",
   "nbconvert_exporter": "python",
   "pygments_lexer": "ipython3",
   "version": "3.6.6"
  }
 },
 "nbformat": 4,
 "nbformat_minor": 2
}
