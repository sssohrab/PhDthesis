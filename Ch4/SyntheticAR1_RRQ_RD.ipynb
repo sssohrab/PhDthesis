{
 "cells": [
  {
   "cell_type": "code",
   "execution_count": null,
   "metadata": {},
   "outputs": [],
   "source": [
    "import RRQ.VQs as VQs\n",
    "import RRQ.Tools as Tools\n",
    "import numpy as np\n",
    "%matplotlib inline\n",
    "import matplotlib.pyplot as plt\n",
    "from sparse_ternary_networks.Tools import SubbandPCA_whitner\n",
    "from scipy.linalg import toeplitz\n",
    "from scipy.linalg import eigh"
   ]
  },
  {
   "cell_type": "code",
   "execution_count": null,
   "metadata": {},
   "outputs": [],
   "source": [
    "N_test = 10000\n",
    "N_train = 10000\n",
    "n = 512\n",
    "m = 512\n",
    "numRep = 1\n",
    "L = 250"
   ]
  },
  {
   "cell_type": "code",
   "execution_count": null,
   "metadata": {},
   "outputs": [],
   "source": [
    "RhoList = [0.90]\n",
    "#RhoList = [0,0.5,0.99]\n",
    "#MethodList = ['RRQ']\n",
    "MethodList = ['RQ']\n",
    "for RhoInd,Rho in enumerate(RhoList):\n",
    "    for Method in MethodList:\n",
    "        exec('dist_' + Method + '_Rho' + str(int(Rho*100)) + '_train = np.zeros((numRep,L+1))')\n",
    "        exec('dist_' + Method + '_Rho' + str(int(Rho*100)) + '_test = np.zeros((numRep,L+1))')\n",
    "        #\n",
    "        exec('rate_' + Method + '_Rho' + str(int(Rho*100)) + ' = np.zeros((numRep,L+1))')"
   ]
  },
  {
   "cell_type": "code",
   "execution_count": null,
   "metadata": {},
   "outputs": [],
   "source": [
    "hparam_dict = {}\n",
    "# Value = (lmda,gamma_p)\n",
    "hparam_dict['RQ_Rho0'] = ([0]*L, 0.99)\n",
    "hparam_dict['RQ_Rho50'] = ([0]*L, 0.99)\n",
    "hparam_dict['RQ_Rho99'] = ([0]*L, 0.99)\n",
    "\n",
    "hparam_dict['RRQ_Rho0'] = ([[np.inf for i in range(0,10)] + [np.inf]*1000][0] [:L], 0.0)\n",
    "hparam_dict['RRQ_Rho50'] = ([[np.inf for i in range(-3,2)] + [np.inf]*1000][0] [:L], 0.0)\n",
    "hparam_dict['RRQ_Rho99'] = ([[np.inf for i in range(-3,2)] + [np.inf]*1000][0] [:L], 0.0)\n",
    "\n",
    "\n",
    "#hparam_dict['RRQ_Rho0'] = ([1e4,1e5,1e6,1e7,1e8,1e9,1e9][:L], 0.99)\n",
    "#hparam_dict['RRQ_Rho50'] = ([1e-1,1e0,1e1,1e2,1e3,1e4,1e5][:L], 0.99)\n",
    "#hparam_dict['RRQ_Rho99'] = ([1e-3,1e-2,1e-1,1e0,1e1,1e2,1e3][:L], 0.99)"
   ]
  },
  {
   "cell_type": "code",
   "execution_count": null,
   "metadata": {},
   "outputs": [],
   "source": [
    "# ind = 1000\n",
    "# plt.plot(F_train[:,ind])\n",
    "# #plt.plot(F_hat[0][:,ind]  )\n",
    "# plt.plot( F_hat[1][:,ind]  )\n",
    "\n",
    "# plt.plot(obj_train.C[1][:,10])\n",
    "#obj_train.init_method"
   ]
  },
  {
   "cell_type": "code",
   "execution_count": null,
   "metadata": {},
   "outputs": [],
   "source": [
    "for RepInd in range(numRep):\n",
    "    print('.......................................  Repetition = ',RepInd + 1)\n",
    "    for RhoInd,Rho in enumerate(RhoList):\n",
    "        print('....................  Rho = ',Rho)\n",
    "        F_train,F_test = Tools.data_generator(n,N_train,N_test,'AR1',SourceParam=Rho)\n",
    "        norm_train = np.divide(np.linalg.norm(F_train) ** 2, np.prod(F_train.shape))\n",
    "        norm_test = np.divide(np.linalg.norm(F_test) ** 2, np.prod(F_test.shape))\n",
    "        for MethodInd,Method in enumerate(MethodList):\n",
    "            print(' ############   ' + Method + '     A L G O R I T H M   ################')\n",
    "            if Method == 'RRQ':\n",
    "                ######### Whitening:\n",
    "                F_train, EigVecs, dim_means = SubbandPCA_whitner(F_train, numSB=1, EigVecs=None,dim_means=None)\n",
    "                F_test, _, _ = SubbandPCA_whitner(F_test, numSB=1, EigVecs=EigVecs, dim_means=dim_means)\n",
    "                ###############################################\n",
    "            # training:\n",
    "            exec(\"lmda = hparam_dict['\"+ Method +\"_Rho\"+str(int(Rho*100))+\"'][0]\")\n",
    "            exec(\"gamma_p = hparam_dict['\"+ Method +\"_Rho\"+str(int(Rho*100))+\"'][1]\")\n",
    "            obj_train = VQs.RRQ(L, m, lmda=lmda, init_method='Data', num_iter=(10, 8), eta=5e-1, gamma_p=gamma_p)\n",
    "            F_out, F_hat, X_ind = obj_train.run(F_train)\n",
    "            exec('dist_' + Method + '_Rho' + str(int(Rho*100)) + '_train[RepInd,:] = obj_train.distortion/norm_train')\n",
    "            exec('rate_' + Method + '_Rho' + str(int(Rho*100)) + '[RepInd,:] = obj_train.rate')\n",
    "            # testing:\n",
    "            obj_test = VQs.VQ(obj_train.C)\n",
    "            F_out, _, _ = obj_test.run(F_test)\n",
    "            exec('dist_' + Method + '_Rho' + str(int(Rho*100)) + '_test[RepInd,:] = obj_test.distortion/norm_test')\n"
   ]
  },
  {
   "cell_type": "code",
   "execution_count": null,
   "metadata": {},
   "outputs": [],
   "source": [
    "#plt.plot(np.mean(dist_RQ_Rho0_test,axis=0))\n",
    "#plt.plot(np.mean(dist_RRQ_Rho0_test,axis=0))"
   ]
  },
  {
   "cell_type": "code",
   "execution_count": null,
   "metadata": {},
   "outputs": [],
   "source": [
    "#plt.plot(np.mean(dist_RQ1_exp2_test,axis=0))\n",
    "#plt.plot(np.mean(dist_RRQ_exp2_test,axis=0))\n",
    "curve_dict = {}\n",
    "for RhoInd,Rho in enumerate(RhoList):\n",
    "    for MethodInd,Method in enumerate(MethodList):\n",
    "        exec('x = np.mean(rate_' +  Method + '_Rho' + str(int(Rho*100)) + ',axis=0)')\n",
    "        exec('y = np.mean(dist_' +  Method + '_Rho' + str(int(Rho*100)) + '_train,axis=0)')\n",
    "        exec(\"curve_dict['Rho\" + str(int(Rho*100))+ '_n' + str(n) + '_m' + str(m) +\"_DR_\"+ Method + \"_train'] = (x,y)\")\n",
    "        \n",
    "        exec('y = np.mean(dist_' +  Method + '_Rho' + str(int(Rho*100)) + '_test,axis=0)')\n",
    "        exec(\"curve_dict['Rho\" + str(int(Rho*100))+ '_n' + str(n)+ '_m' + str(m) +\"_DR_\"+ Method + \"_test'] = (x,y)\") "
   ]
  },
  {
   "cell_type": "code",
   "execution_count": null,
   "metadata": {},
   "outputs": [],
   "source": [
    "# # SLB calculation for AR(1) sources:\n",
    "# Rate_SLB= np.linspace(0,4,1000)\n",
    "# Distortion_SLB = np.zeros((len(RhoList),len(Rate_SLB)))\n",
    "# for RhoInd,Rho in enumerate(RhoList):\n",
    "#     print('Rho = ',Rho)\n",
    "#     if Rho == 0:\n",
    "#         Distortion_SLB[RhoInd,:] = 2**(-2*Rate_SLB)\n",
    "#         continue\n",
    "#     cov_mat = toeplitz(Rho ** np.arange(n))\n",
    "#     EigValues, _ = eigh(cov_mat)\n",
    "#     for RateInd,Rate in enumerate(Rate_SLB):\n",
    "#         Distortion_SLB[RhoInd,RateInd] = np.sum(Tools.rev_WaterFiller(EigValues,Rate)[3])/n\n",
    "        \n",
    "        \n",
    "# #\n",
    "# plt.subplot(1,2,1)\n",
    "# plt.plot(Rate_SLB,Distortion_SLB[RhoInd,:],color='BLACK') \n",
    "# plt.grid()\n",
    "# plt.xlabel('Rate')\n",
    "# plt.ylabel('Distortion')\n",
    "# #\n",
    "# plt.subplot(1,2,2)\n",
    "# plt.semilogy(Rate_SLB,Distortion_SLB[RhoInd,:],color='BLACK') \n",
    "# plt.grid()\n",
    "# plt.xlabel('Rate')\n",
    "# plt.ylabel('Distortion')\n",
    "\n",
    "\n",
    "\n",
    "# curve_dict['Rho0_SLB'] = (Rate_SLB,Distortion_SLB[0,:])\n",
    "# curve_dict['Rho50_SLB'] = (Rate_SLB,Distortion_SLB[1,:])\n",
    "# curve_dict['Rho991_SLB'] = (Rate_SLB,Distortion_SLB[2,:])"
   ]
  },
  {
   "cell_type": "code",
   "execution_count": null,
   "metadata": {},
   "outputs": [],
   "source": [
    "# Saving the results for PGFplott:\n",
    "PGF_path = '/home/sssohrab/Dropbox/Thesis/Thesis/Chapter6/Pics/PGF/dat/'\n",
    "ExpName = 'SyntheticAR1_RRQ'\n",
    "#\n",
    "for curve_name, curve_xy in curve_dict.items():\n",
    "    fname = ExpName + '_' + curve_name + '.dat'\n",
    "    print(fname)\n",
    "    x = curve_xy[0].astype(float).reshape(-1)\n",
    "    y = curve_xy[1].astype(float).reshape(-1)\n",
    "    np.savetxt(PGF_path + fname, np.transpose([x,y]), fmt='%8f', delimiter='   ')"
   ]
  },
  {
   "cell_type": "code",
   "execution_count": null,
   "metadata": {},
   "outputs": [],
   "source": []
  },
  {
   "cell_type": "code",
   "execution_count": null,
   "metadata": {},
   "outputs": [],
   "source": []
  }
 ],
 "metadata": {
  "anaconda-cloud": {},
  "kernelspec": {
   "display_name": "Python [default]",
   "language": "python",
   "name": "python3"
  },
  "language_info": {
   "codemirror_mode": {
    "name": "ipython",
    "version": 3
   },
   "file_extension": ".py",
   "mimetype": "text/x-python",
   "name": "python",
   "nbconvert_exporter": "python",
   "pygments_lexer": "ipython3",
   "version": "3.6.7"
  }
 },
 "nbformat": 4,
 "nbformat_minor": 1
}
